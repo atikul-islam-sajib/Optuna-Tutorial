{
 "cells": [
  {
   "cell_type": "code",
   "execution_count": 1,
   "metadata": {},
   "outputs": [
    {
     "name": "stderr",
     "output_type": "stream",
     "text": [
      "/opt/anaconda3/envs/GPSG/lib/python3.10/site-packages/tqdm/auto.py:21: TqdmWarning: IProgress not found. Please update jupyter and ipywidgets. See https://ipywidgets.readthedocs.io/en/stable/user_install.html\n",
      "  from .autonotebook import tqdm as notebook_tqdm\n"
     ]
    },
    {
     "name": "stdout",
     "output_type": "stream",
     "text": [
      "Downloading http://yann.lecun.com/exdb/mnist/train-images-idx3-ubyte.gz\n",
      "Failed to download (trying next):\n",
      "<urlopen error [SSL: CERTIFICATE_VERIFY_FAILED] certificate verify failed: certificate has expired (_ssl.c:1007)>\n",
      "\n",
      "Downloading https://ossci-datasets.s3.amazonaws.com/mnist/train-images-idx3-ubyte.gz\n",
      "Downloading https://ossci-datasets.s3.amazonaws.com/mnist/train-images-idx3-ubyte.gz to data/MNIST/raw/train-images-idx3-ubyte.gz\n"
     ]
    },
    {
     "name": "stderr",
     "output_type": "stream",
     "text": [
      "100%|██████████| 9912422/9912422 [03:48<00:00, 43434.39it/s]\n"
     ]
    },
    {
     "name": "stdout",
     "output_type": "stream",
     "text": [
      "Extracting data/MNIST/raw/train-images-idx3-ubyte.gz to data/MNIST/raw\n",
      "\n",
      "Downloading http://yann.lecun.com/exdb/mnist/train-labels-idx1-ubyte.gz\n",
      "Failed to download (trying next):\n",
      "<urlopen error [SSL: CERTIFICATE_VERIFY_FAILED] certificate verify failed: certificate has expired (_ssl.c:1007)>\n",
      "\n",
      "Downloading https://ossci-datasets.s3.amazonaws.com/mnist/train-labels-idx1-ubyte.gz\n",
      "Downloading https://ossci-datasets.s3.amazonaws.com/mnist/train-labels-idx1-ubyte.gz to data/MNIST/raw/train-labels-idx1-ubyte.gz\n"
     ]
    },
    {
     "name": "stderr",
     "output_type": "stream",
     "text": [
      "100%|██████████| 28881/28881 [00:00<00:00, 102507.52it/s]\n"
     ]
    },
    {
     "name": "stdout",
     "output_type": "stream",
     "text": [
      "Extracting data/MNIST/raw/train-labels-idx1-ubyte.gz to data/MNIST/raw\n",
      "\n",
      "Downloading http://yann.lecun.com/exdb/mnist/t10k-images-idx3-ubyte.gz\n",
      "Failed to download (trying next):\n",
      "<urlopen error [SSL: CERTIFICATE_VERIFY_FAILED] certificate verify failed: certificate has expired (_ssl.c:1007)>\n",
      "\n",
      "Downloading https://ossci-datasets.s3.amazonaws.com/mnist/t10k-images-idx3-ubyte.gz\n",
      "Downloading https://ossci-datasets.s3.amazonaws.com/mnist/t10k-images-idx3-ubyte.gz to data/MNIST/raw/t10k-images-idx3-ubyte.gz\n"
     ]
    },
    {
     "name": "stderr",
     "output_type": "stream",
     "text": [
      "100%|██████████| 1648877/1648877 [00:36<00:00, 44801.92it/s]\n"
     ]
    },
    {
     "name": "stdout",
     "output_type": "stream",
     "text": [
      "Extracting data/MNIST/raw/t10k-images-idx3-ubyte.gz to data/MNIST/raw\n",
      "\n",
      "Downloading http://yann.lecun.com/exdb/mnist/t10k-labels-idx1-ubyte.gz\n",
      "Failed to download (trying next):\n",
      "<urlopen error [SSL: CERTIFICATE_VERIFY_FAILED] certificate verify failed: certificate has expired (_ssl.c:1007)>\n",
      "\n",
      "Downloading https://ossci-datasets.s3.amazonaws.com/mnist/t10k-labels-idx1-ubyte.gz\n",
      "Downloading https://ossci-datasets.s3.amazonaws.com/mnist/t10k-labels-idx1-ubyte.gz to data/MNIST/raw/t10k-labels-idx1-ubyte.gz\n"
     ]
    },
    {
     "name": "stderr",
     "output_type": "stream",
     "text": [
      "100%|██████████| 4542/4542 [00:00<00:00, 1002448.37it/s]\n"
     ]
    },
    {
     "name": "stdout",
     "output_type": "stream",
     "text": [
      "Extracting data/MNIST/raw/t10k-labels-idx1-ubyte.gz to data/MNIST/raw\n",
      "\n",
      "MNIST dataset downloaded successfully.\n"
     ]
    }
   ],
   "source": [
    "import torch\n",
    "from torchvision import datasets, transforms\n",
    "\n",
    "# Define the transformation (converting to tensor)\n",
    "transform = transforms.ToTensor()\n",
    "\n",
    "# Download the MNIST training dataset\n",
    "train_data = datasets.MNIST(root='data', train=True, download=True, transform=transform)\n",
    "\n",
    "# Download the MNIST test dataset\n",
    "test_data = datasets.MNIST(root='data', train=False, download=True, transform=transform)\n",
    "\n",
    "print(\"MNIST dataset downloaded successfully.\")\n"
   ]
  },
  {
   "cell_type": "code",
   "execution_count": 139,
   "metadata": {},
   "outputs": [
    {
     "name": "stdout",
     "output_type": "stream",
     "text": [
      "Batch index: 0\n",
      "Data shape: torch.Size([64, 1, 28, 28])\n",
      "Target shape: torch.Size([64])\n"
     ]
    }
   ],
   "source": [
    "import torch\n",
    "from torchvision import datasets, transforms\n",
    "from torch.utils.data import DataLoader\n",
    "\n",
    "# Define transformations: converting to tensor and normalizing\n",
    "transform = transforms.Compose([\n",
    "    transforms.ToTensor(),\n",
    "    transforms.Normalize((0.1307,), (0.3081,))  # Normalize to mean=0.1307 and std=0.3081 for MNIST\n",
    "])\n",
    "\n",
    "# Download and apply transforms to MNIST datasets\n",
    "train_data = datasets.MNIST(root='data', train=True, download=True, transform=transform)\n",
    "test_data = datasets.MNIST(root='data', train=False, download=True, transform=transform)\n",
    "\n",
    "# Create DataLoaders to batch, shuffle (for training), and load the data efficiently\n",
    "train_loader = DataLoader(train_data, batch_size=64, shuffle=True)\n",
    "test_loader = DataLoader(test_data, batch_size=64, shuffle=False)\n",
    "\n",
    "# Example to iterate over the training data\n",
    "for batch_idx, (data, target) in enumerate(train_loader):\n",
    "    print(\"Batch index:\", batch_idx)\n",
    "    print(\"Data shape:\", data.shape)  # Should be [64, 1, 28, 28] for 64 images in a batch\n",
    "    print(\"Target shape:\", target.shape)  # Should be [64] for 64 labels\n",
    "    break  # Just print the first batch shapes to check"
   ]
  },
  {
   "cell_type": "code",
   "execution_count": 140,
   "metadata": {},
   "outputs": [],
   "source": [
    "import torch\n",
    "import torch.nn as nn"
   ]
  },
  {
   "cell_type": "code",
   "execution_count": 141,
   "metadata": {},
   "outputs": [],
   "source": [
    "class Classifier(nn.Module):\n",
    "    def __init__(self):\n",
    "        super(Classifier, self).__init__()\n",
    "        \n",
    "        self.model = nn.Sequential(\n",
    "            nn.Linear(in_features = 28 * 28, out_features = 256, bias = True),\n",
    "            nn.ReLU(inplace=True),\n",
    "            nn.Dropout(p=0.5),  # Apply Dropout after the first hidden layer\n",
    "            nn.Linear(in_features=256, out_features=128),\n",
    "            nn.ReLU(inplace=True),\n",
    "            nn.Linear(in_features=128, out_features=10)\n",
    "        )\n",
    "        \n",
    "    def forward(self, x):\n",
    "        return self.model(x)"
   ]
  },
  {
   "cell_type": "code",
   "execution_count": 142,
   "metadata": {},
   "outputs": [
    {
     "name": "stdout",
     "output_type": "stream",
     "text": [
      "Classifier(\n",
      "  (model): Sequential(\n",
      "    (0): Linear(in_features=784, out_features=256, bias=True)\n",
      "    (1): ReLU(inplace=True)\n",
      "    (2): Dropout(p=0.5, inplace=False)\n",
      "    (3): Linear(in_features=256, out_features=128, bias=True)\n",
      "    (4): ReLU(inplace=True)\n",
      "    (5): Linear(in_features=128, out_features=10, bias=True)\n",
      "  )\n",
      ")\n"
     ]
    }
   ],
   "source": [
    "classifier = Classifier()\n",
    "\n",
    "print(classifier)"
   ]
  },
  {
   "cell_type": "code",
   "execution_count": 143,
   "metadata": {},
   "outputs": [
    {
     "data": {
      "text/plain": [
       "235146"
      ]
     },
     "execution_count": 143,
     "metadata": {},
     "output_type": "execute_result"
    }
   ],
   "source": [
    "sum(params.numel() for params in classifier.parameters())"
   ]
  },
  {
   "cell_type": "code",
   "execution_count": 144,
   "metadata": {},
   "outputs": [],
   "source": [
    "# train_images = train_data.view(-1, 28 * 28)\n",
    "# test_images = test_data.view(-1, 28 * 28)"
   ]
  },
  {
   "cell_type": "code",
   "execution_count": 145,
   "metadata": {},
   "outputs": [],
   "source": [
    "# train_images.size(), test_images.size()"
   ]
  },
  {
   "cell_type": "code",
   "execution_count": 146,
   "metadata": {},
   "outputs": [],
   "source": [
    "from torch.utils.data import DataLoader"
   ]
  },
  {
   "cell_type": "code",
   "execution_count": 147,
   "metadata": {},
   "outputs": [],
   "source": [
    "# batch_size = 32\n",
    "# train_dataloader = DataLoader(\n",
    "#     dataset=list(zip(train_images, test_labels)),\n",
    "#     batch_size = batch_size\n",
    "# )\n",
    "# valid_dataloader = DataLoader(\n",
    "#     dataset=list(zip(test_images,test_labels)),\n",
    "#     batch_size = batch_size\n",
    "# )"
   ]
  },
  {
   "cell_type": "code",
   "execution_count": 148,
   "metadata": {},
   "outputs": [
    {
     "data": {
      "text/plain": [
       "(torch.Size([64, 1, 28, 28]), torch.Size([64]))"
      ]
     },
     "execution_count": 148,
     "metadata": {},
     "output_type": "execute_result"
    }
   ],
   "source": [
    "data, labels = next(iter(train_loader))\n",
    "\n",
    "data.size(), labels.size()"
   ]
  },
  {
   "cell_type": "code",
   "execution_count": 149,
   "metadata": {},
   "outputs": [],
   "source": [
    "# data, labels = next(iter(valid_dataloader))\n",
    "\n",
    "# data.size(), labels.size()"
   ]
  },
  {
   "cell_type": "code",
   "execution_count": 150,
   "metadata": {},
   "outputs": [
    {
     "data": {
      "text/plain": [
       "(CrossEntropyLoss(),\n",
       " Adam (\n",
       " Parameter Group 0\n",
       "     amsgrad: False\n",
       "     betas: (0.9, 0.999)\n",
       "     capturable: False\n",
       "     differentiable: False\n",
       "     eps: 1e-08\n",
       "     foreach: None\n",
       "     fused: None\n",
       "     lr: 0.001\n",
       "     maximize: False\n",
       "     weight_decay: 0\n",
       " ))"
      ]
     },
     "execution_count": 150,
     "metadata": {},
     "output_type": "execute_result"
    }
   ],
   "source": [
    "import torch.optim as optim\n",
    "\n",
    "learning_rate = 0.001\n",
    "beta1 = 0.9\n",
    "beat2 = 0.999\n",
    "\n",
    "criterion = nn.CrossEntropyLoss()\n",
    "optimizer = optim.Adam(\n",
    "    params=classifier.parameters(),\n",
    "    lr=learning_rate,\n",
    "    betas=(beta1, beat2)\n",
    ")\n",
    "\n",
    "criterion, optimizer"
   ]
  },
  {
   "cell_type": "code",
   "execution_count": 151,
   "metadata": {},
   "outputs": [
    {
     "name": "stdout",
     "output_type": "stream",
     "text": [
      "Epochs: [1/10] - train_loss: 0.3317 - valid_loss: 0.2153 - train_accuracy: 0.8986 - valid_accuracy: 0.9329\n",
      "Epochs: [2/10] - train_loss: 0.1820 - valid_loss: 0.1729 - train_accuracy: 0.9450 - valid_accuracy: 0.9470\n",
      "Epochs: [3/10] - train_loss: 0.1521 - valid_loss: 0.1523 - train_accuracy: 0.9526 - valid_accuracy: 0.9535\n",
      "Epochs: [4/10] - train_loss: 0.1326 - valid_loss: 0.1331 - train_accuracy: 0.9586 - valid_accuracy: 0.9592\n",
      "Epochs: [5/10] - train_loss: 0.1190 - valid_loss: 0.1340 - train_accuracy: 0.9630 - valid_accuracy: 0.9599\n",
      "Epochs: [6/10] - train_loss: 0.1120 - valid_loss: 0.1276 - train_accuracy: 0.9638 - valid_accuracy: 0.9631\n",
      "Epochs: [7/10] - train_loss: 0.1053 - valid_loss: 0.1213 - train_accuracy: 0.9667 - valid_accuracy: 0.9645\n",
      "Epochs: [8/10] - train_loss: 0.0981 - valid_loss: 0.1250 - train_accuracy: 0.9687 - valid_accuracy: 0.9636\n",
      "Epochs: [9/10] - train_loss: 0.0974 - valid_loss: 0.1192 - train_accuracy: 0.9693 - valid_accuracy: 0.9655\n",
      "Epochs: [10/10] - train_loss: 0.0902 - valid_loss: 0.1378 - train_accuracy: 0.9713 - valid_accuracy: 0.9607\n",
      "Epochs: [11/10] - train_loss: 0.0888 - valid_loss: 0.1213 - train_accuracy: 0.9725 - valid_accuracy: 0.9649\n",
      "Epochs: [12/10] - train_loss: 0.0863 - valid_loss: 0.1213 - train_accuracy: 0.9732 - valid_accuracy: 0.9656\n",
      "Epochs: [13/10] - train_loss: 0.0814 - valid_loss: 0.1149 - train_accuracy: 0.9738 - valid_accuracy: 0.9669\n",
      "Epochs: [14/10] - train_loss: 0.0810 - valid_loss: 0.1282 - train_accuracy: 0.9740 - valid_accuracy: 0.9616\n",
      "Epochs: [15/10] - train_loss: 0.0760 - valid_loss: 0.1196 - train_accuracy: 0.9757 - valid_accuracy: 0.9678\n",
      "Epochs: [16/10] - train_loss: 0.0737 - valid_loss: 0.1218 - train_accuracy: 0.9766 - valid_accuracy: 0.9645\n"
     ]
    },
    {
     "ename": "KeyboardInterrupt",
     "evalue": "",
     "output_type": "error",
     "traceback": [
      "\u001b[0;31m---------------------------------------------------------------------------\u001b[0m",
      "\u001b[0;31mKeyboardInterrupt\u001b[0m                         Traceback (most recent call last)",
      "Cell \u001b[0;32mIn[151], line 11\u001b[0m\n\u001b[1;32m      8\u001b[0m valid_accuracy \u001b[38;5;241m=\u001b[39m []\n\u001b[1;32m     10\u001b[0m \u001b[38;5;66;03m# Training loop\u001b[39;00m\n\u001b[0;32m---> 11\u001b[0m \u001b[38;5;28;01mfor\u001b[39;00m (train_data, train_labels) \u001b[38;5;129;01min\u001b[39;00m train_loader:\n\u001b[1;32m     12\u001b[0m     train_data \u001b[38;5;241m=\u001b[39m train_data\u001b[38;5;241m.\u001b[39mview(\u001b[38;5;241m-\u001b[39m\u001b[38;5;241m1\u001b[39m, \u001b[38;5;241m28\u001b[39m \u001b[38;5;241m*\u001b[39m \u001b[38;5;241m28\u001b[39m)\n\u001b[1;32m     13\u001b[0m     \u001b[38;5;66;03m# Forward pass\u001b[39;00m\n",
      "File \u001b[0;32m/opt/anaconda3/envs/GPSG/lib/python3.10/site-packages/torch/utils/data/dataloader.py:631\u001b[0m, in \u001b[0;36m_BaseDataLoaderIter.__next__\u001b[0;34m(self)\u001b[0m\n\u001b[1;32m    628\u001b[0m \u001b[38;5;28;01mif\u001b[39;00m \u001b[38;5;28mself\u001b[39m\u001b[38;5;241m.\u001b[39m_sampler_iter \u001b[38;5;129;01mis\u001b[39;00m \u001b[38;5;28;01mNone\u001b[39;00m:\n\u001b[1;32m    629\u001b[0m     \u001b[38;5;66;03m# TODO(https://github.com/pytorch/pytorch/issues/76750)\u001b[39;00m\n\u001b[1;32m    630\u001b[0m     \u001b[38;5;28mself\u001b[39m\u001b[38;5;241m.\u001b[39m_reset()  \u001b[38;5;66;03m# type: ignore[call-arg]\u001b[39;00m\n\u001b[0;32m--> 631\u001b[0m data \u001b[38;5;241m=\u001b[39m \u001b[38;5;28;43mself\u001b[39;49m\u001b[38;5;241;43m.\u001b[39;49m\u001b[43m_next_data\u001b[49m\u001b[43m(\u001b[49m\u001b[43m)\u001b[49m\n\u001b[1;32m    632\u001b[0m \u001b[38;5;28mself\u001b[39m\u001b[38;5;241m.\u001b[39m_num_yielded \u001b[38;5;241m+\u001b[39m\u001b[38;5;241m=\u001b[39m \u001b[38;5;241m1\u001b[39m\n\u001b[1;32m    633\u001b[0m \u001b[38;5;28;01mif\u001b[39;00m \u001b[38;5;28mself\u001b[39m\u001b[38;5;241m.\u001b[39m_dataset_kind \u001b[38;5;241m==\u001b[39m _DatasetKind\u001b[38;5;241m.\u001b[39mIterable \u001b[38;5;129;01mand\u001b[39;00m \\\n\u001b[1;32m    634\u001b[0m         \u001b[38;5;28mself\u001b[39m\u001b[38;5;241m.\u001b[39m_IterableDataset_len_called \u001b[38;5;129;01mis\u001b[39;00m \u001b[38;5;129;01mnot\u001b[39;00m \u001b[38;5;28;01mNone\u001b[39;00m \u001b[38;5;129;01mand\u001b[39;00m \\\n\u001b[1;32m    635\u001b[0m         \u001b[38;5;28mself\u001b[39m\u001b[38;5;241m.\u001b[39m_num_yielded \u001b[38;5;241m>\u001b[39m \u001b[38;5;28mself\u001b[39m\u001b[38;5;241m.\u001b[39m_IterableDataset_len_called:\n",
      "File \u001b[0;32m/opt/anaconda3/envs/GPSG/lib/python3.10/site-packages/torch/utils/data/dataloader.py:675\u001b[0m, in \u001b[0;36m_SingleProcessDataLoaderIter._next_data\u001b[0;34m(self)\u001b[0m\n\u001b[1;32m    673\u001b[0m \u001b[38;5;28;01mdef\u001b[39;00m \u001b[38;5;21m_next_data\u001b[39m(\u001b[38;5;28mself\u001b[39m):\n\u001b[1;32m    674\u001b[0m     index \u001b[38;5;241m=\u001b[39m \u001b[38;5;28mself\u001b[39m\u001b[38;5;241m.\u001b[39m_next_index()  \u001b[38;5;66;03m# may raise StopIteration\u001b[39;00m\n\u001b[0;32m--> 675\u001b[0m     data \u001b[38;5;241m=\u001b[39m \u001b[38;5;28;43mself\u001b[39;49m\u001b[38;5;241;43m.\u001b[39;49m\u001b[43m_dataset_fetcher\u001b[49m\u001b[38;5;241;43m.\u001b[39;49m\u001b[43mfetch\u001b[49m\u001b[43m(\u001b[49m\u001b[43mindex\u001b[49m\u001b[43m)\u001b[49m  \u001b[38;5;66;03m# may raise StopIteration\u001b[39;00m\n\u001b[1;32m    676\u001b[0m     \u001b[38;5;28;01mif\u001b[39;00m \u001b[38;5;28mself\u001b[39m\u001b[38;5;241m.\u001b[39m_pin_memory:\n\u001b[1;32m    677\u001b[0m         data \u001b[38;5;241m=\u001b[39m _utils\u001b[38;5;241m.\u001b[39mpin_memory\u001b[38;5;241m.\u001b[39mpin_memory(data, \u001b[38;5;28mself\u001b[39m\u001b[38;5;241m.\u001b[39m_pin_memory_device)\n",
      "File \u001b[0;32m/opt/anaconda3/envs/GPSG/lib/python3.10/site-packages/torch/utils/data/_utils/fetch.py:51\u001b[0m, in \u001b[0;36m_MapDatasetFetcher.fetch\u001b[0;34m(self, possibly_batched_index)\u001b[0m\n\u001b[1;32m     49\u001b[0m         data \u001b[38;5;241m=\u001b[39m \u001b[38;5;28mself\u001b[39m\u001b[38;5;241m.\u001b[39mdataset\u001b[38;5;241m.\u001b[39m__getitems__(possibly_batched_index)\n\u001b[1;32m     50\u001b[0m     \u001b[38;5;28;01melse\u001b[39;00m:\n\u001b[0;32m---> 51\u001b[0m         data \u001b[38;5;241m=\u001b[39m [\u001b[38;5;28mself\u001b[39m\u001b[38;5;241m.\u001b[39mdataset[idx] \u001b[38;5;28;01mfor\u001b[39;00m idx \u001b[38;5;129;01min\u001b[39;00m possibly_batched_index]\n\u001b[1;32m     52\u001b[0m \u001b[38;5;28;01melse\u001b[39;00m:\n\u001b[1;32m     53\u001b[0m     data \u001b[38;5;241m=\u001b[39m \u001b[38;5;28mself\u001b[39m\u001b[38;5;241m.\u001b[39mdataset[possibly_batched_index]\n",
      "File \u001b[0;32m/opt/anaconda3/envs/GPSG/lib/python3.10/site-packages/torch/utils/data/_utils/fetch.py:51\u001b[0m, in \u001b[0;36m<listcomp>\u001b[0;34m(.0)\u001b[0m\n\u001b[1;32m     49\u001b[0m         data \u001b[38;5;241m=\u001b[39m \u001b[38;5;28mself\u001b[39m\u001b[38;5;241m.\u001b[39mdataset\u001b[38;5;241m.\u001b[39m__getitems__(possibly_batched_index)\n\u001b[1;32m     50\u001b[0m     \u001b[38;5;28;01melse\u001b[39;00m:\n\u001b[0;32m---> 51\u001b[0m         data \u001b[38;5;241m=\u001b[39m [\u001b[38;5;28;43mself\u001b[39;49m\u001b[38;5;241;43m.\u001b[39;49m\u001b[43mdataset\u001b[49m\u001b[43m[\u001b[49m\u001b[43midx\u001b[49m\u001b[43m]\u001b[49m \u001b[38;5;28;01mfor\u001b[39;00m idx \u001b[38;5;129;01min\u001b[39;00m possibly_batched_index]\n\u001b[1;32m     52\u001b[0m \u001b[38;5;28;01melse\u001b[39;00m:\n\u001b[1;32m     53\u001b[0m     data \u001b[38;5;241m=\u001b[39m \u001b[38;5;28mself\u001b[39m\u001b[38;5;241m.\u001b[39mdataset[possibly_batched_index]\n",
      "File \u001b[0;32m/opt/anaconda3/envs/GPSG/lib/python3.10/site-packages/torchvision/datasets/mnist.py:145\u001b[0m, in \u001b[0;36mMNIST.__getitem__\u001b[0;34m(self, index)\u001b[0m\n\u001b[1;32m    142\u001b[0m img \u001b[38;5;241m=\u001b[39m Image\u001b[38;5;241m.\u001b[39mfromarray(img\u001b[38;5;241m.\u001b[39mnumpy(), mode\u001b[38;5;241m=\u001b[39m\u001b[38;5;124m\"\u001b[39m\u001b[38;5;124mL\u001b[39m\u001b[38;5;124m\"\u001b[39m)\n\u001b[1;32m    144\u001b[0m \u001b[38;5;28;01mif\u001b[39;00m \u001b[38;5;28mself\u001b[39m\u001b[38;5;241m.\u001b[39mtransform \u001b[38;5;129;01mis\u001b[39;00m \u001b[38;5;129;01mnot\u001b[39;00m \u001b[38;5;28;01mNone\u001b[39;00m:\n\u001b[0;32m--> 145\u001b[0m     img \u001b[38;5;241m=\u001b[39m \u001b[38;5;28;43mself\u001b[39;49m\u001b[38;5;241;43m.\u001b[39;49m\u001b[43mtransform\u001b[49m\u001b[43m(\u001b[49m\u001b[43mimg\u001b[49m\u001b[43m)\u001b[49m\n\u001b[1;32m    147\u001b[0m \u001b[38;5;28;01mif\u001b[39;00m \u001b[38;5;28mself\u001b[39m\u001b[38;5;241m.\u001b[39mtarget_transform \u001b[38;5;129;01mis\u001b[39;00m \u001b[38;5;129;01mnot\u001b[39;00m \u001b[38;5;28;01mNone\u001b[39;00m:\n\u001b[1;32m    148\u001b[0m     target \u001b[38;5;241m=\u001b[39m \u001b[38;5;28mself\u001b[39m\u001b[38;5;241m.\u001b[39mtarget_transform(target)\n",
      "File \u001b[0;32m/opt/anaconda3/envs/GPSG/lib/python3.10/site-packages/torchvision/transforms/transforms.py:95\u001b[0m, in \u001b[0;36mCompose.__call__\u001b[0;34m(self, img)\u001b[0m\n\u001b[1;32m     93\u001b[0m \u001b[38;5;28;01mdef\u001b[39;00m \u001b[38;5;21m__call__\u001b[39m(\u001b[38;5;28mself\u001b[39m, img):\n\u001b[1;32m     94\u001b[0m     \u001b[38;5;28;01mfor\u001b[39;00m t \u001b[38;5;129;01min\u001b[39;00m \u001b[38;5;28mself\u001b[39m\u001b[38;5;241m.\u001b[39mtransforms:\n\u001b[0;32m---> 95\u001b[0m         img \u001b[38;5;241m=\u001b[39m \u001b[43mt\u001b[49m\u001b[43m(\u001b[49m\u001b[43mimg\u001b[49m\u001b[43m)\u001b[49m\n\u001b[1;32m     96\u001b[0m     \u001b[38;5;28;01mreturn\u001b[39;00m img\n",
      "File \u001b[0;32m/opt/anaconda3/envs/GPSG/lib/python3.10/site-packages/torch/nn/modules/module.py:1511\u001b[0m, in \u001b[0;36mModule._wrapped_call_impl\u001b[0;34m(self, *args, **kwargs)\u001b[0m\n\u001b[1;32m   1509\u001b[0m     \u001b[38;5;28;01mreturn\u001b[39;00m \u001b[38;5;28mself\u001b[39m\u001b[38;5;241m.\u001b[39m_compiled_call_impl(\u001b[38;5;241m*\u001b[39margs, \u001b[38;5;241m*\u001b[39m\u001b[38;5;241m*\u001b[39mkwargs)  \u001b[38;5;66;03m# type: ignore[misc]\u001b[39;00m\n\u001b[1;32m   1510\u001b[0m \u001b[38;5;28;01melse\u001b[39;00m:\n\u001b[0;32m-> 1511\u001b[0m     \u001b[38;5;28;01mreturn\u001b[39;00m \u001b[38;5;28;43mself\u001b[39;49m\u001b[38;5;241;43m.\u001b[39;49m\u001b[43m_call_impl\u001b[49m\u001b[43m(\u001b[49m\u001b[38;5;241;43m*\u001b[39;49m\u001b[43margs\u001b[49m\u001b[43m,\u001b[49m\u001b[43m \u001b[49m\u001b[38;5;241;43m*\u001b[39;49m\u001b[38;5;241;43m*\u001b[39;49m\u001b[43mkwargs\u001b[49m\u001b[43m)\u001b[49m\n",
      "File \u001b[0;32m/opt/anaconda3/envs/GPSG/lib/python3.10/site-packages/torch/nn/modules/module.py:1514\u001b[0m, in \u001b[0;36mModule._call_impl\u001b[0;34m(self, *args, **kwargs)\u001b[0m\n\u001b[1;32m   1513\u001b[0m \u001b[38;5;28;01mdef\u001b[39;00m \u001b[38;5;21m_call_impl\u001b[39m(\u001b[38;5;28mself\u001b[39m, \u001b[38;5;241m*\u001b[39margs, \u001b[38;5;241m*\u001b[39m\u001b[38;5;241m*\u001b[39mkwargs):\n\u001b[0;32m-> 1514\u001b[0m     forward_call \u001b[38;5;241m=\u001b[39m (\u001b[38;5;28mself\u001b[39m\u001b[38;5;241m.\u001b[39m_slow_forward \u001b[38;5;28;01mif\u001b[39;00m \u001b[43mtorch\u001b[49m\u001b[38;5;241;43m.\u001b[39;49m\u001b[43m_C\u001b[49m\u001b[38;5;241;43m.\u001b[39;49m\u001b[43m_get_tracing_state\u001b[49m\u001b[43m(\u001b[49m\u001b[43m)\u001b[49m \u001b[38;5;28;01melse\u001b[39;00m \u001b[38;5;28mself\u001b[39m\u001b[38;5;241m.\u001b[39mforward)\n\u001b[1;32m   1515\u001b[0m     \u001b[38;5;66;03m# If we don't have any hooks, we want to skip the rest of the logic in\u001b[39;00m\n\u001b[1;32m   1516\u001b[0m     \u001b[38;5;66;03m# this function, and just call forward.\u001b[39;00m\n\u001b[1;32m   1517\u001b[0m     \u001b[38;5;28;01mif\u001b[39;00m \u001b[38;5;129;01mnot\u001b[39;00m (\u001b[38;5;28mself\u001b[39m\u001b[38;5;241m.\u001b[39m_backward_hooks \u001b[38;5;129;01mor\u001b[39;00m \u001b[38;5;28mself\u001b[39m\u001b[38;5;241m.\u001b[39m_backward_pre_hooks \u001b[38;5;129;01mor\u001b[39;00m \u001b[38;5;28mself\u001b[39m\u001b[38;5;241m.\u001b[39m_forward_hooks \u001b[38;5;129;01mor\u001b[39;00m \u001b[38;5;28mself\u001b[39m\u001b[38;5;241m.\u001b[39m_forward_pre_hooks\n\u001b[1;32m   1518\u001b[0m             \u001b[38;5;129;01mor\u001b[39;00m _global_backward_pre_hooks \u001b[38;5;129;01mor\u001b[39;00m _global_backward_hooks\n\u001b[1;32m   1519\u001b[0m             \u001b[38;5;129;01mor\u001b[39;00m _global_forward_hooks \u001b[38;5;129;01mor\u001b[39;00m _global_forward_pre_hooks):\n",
      "\u001b[0;31mKeyboardInterrupt\u001b[0m: "
     ]
    }
   ],
   "source": [
    "import numpy as np\n",
    "from sklearn.metrics import accuracy_score\n",
    "\n",
    "for epoch in range(100):\n",
    "    train_loss = []\n",
    "    valid_loss = []\n",
    "    train_accuracy = []\n",
    "    valid_accuracy = []\n",
    "    \n",
    "    # Training loop\n",
    "    for (train_data, train_labels) in train_loader:\n",
    "        train_data = train_data.view(-1, 28 * 28)\n",
    "        # Forward pass\n",
    "        predicted = classifier(train_data)\n",
    "    \n",
    "        # Compute the loss\n",
    "        loss = criterion(predicted, train_labels)\n",
    "        train_loss.append(loss.item())\n",
    "        \n",
    "        # Compute training accuracy\n",
    "        predicted_classes = torch.argmax(predicted, axis=1)\n",
    "        train_accuracy.append(accuracy_score(train_labels.cpu(), predicted_classes.cpu()))\n",
    "        \n",
    "        # Backpropagation\n",
    "        optimizer.zero_grad()\n",
    "        loss.backward()\n",
    "        optimizer.step()\n",
    "        \n",
    "    # Validation loop\n",
    "    for (valid_data, valid_labels) in test_loader:\n",
    "        with torch.no_grad(): \n",
    "            valid_data = valid_data.view(-1, 28 * 28)\n",
    "            predicted = classifier(valid_data)\n",
    "            loss = criterion(predicted, valid_labels)\n",
    "            valid_loss.append(loss.item())\n",
    "            \n",
    "            # Compute validation accuracy\n",
    "            predicted_classes = torch.argmax(predicted, axis=1)\n",
    "            valid_accuracy.append(accuracy_score(valid_labels.cpu(), predicted_classes.cpu()))\n",
    "    \n",
    "    # Print epoch results\n",
    "    print(\"Epochs: [{}/{}] - train_loss: {:.4f} - valid_loss: {:.4f} - train_accuracy: {:.4f} - valid_accuracy: {:.4f}\".format(\n",
    "        epoch + 1, 10, np.mean(train_loss), np.mean(valid_loss), np.mean(train_accuracy), np.mean(valid_accuracy)\n",
    "        )\n",
    "    )"
   ]
  },
  {
   "cell_type": "code",
   "execution_count": 158,
   "metadata": {},
   "outputs": [],
   "source": [
    "## Do the hyper parameter\n",
    "\n",
    "def objective(trails):\n",
    "    learning_rate = trails.suggest_float(\"lr\", 0.0001, 0.001)\n",
    "    epochs = trails.suggest_categorical(\"epochs\", [5, 10, 15])\n",
    "    \n",
    "    model = Classifier()\n",
    "    \n",
    "    criterion = nn.CrossEntropyLoss()\n",
    "    optimizer = optim.Adam(\n",
    "        params=model.parameters(),\n",
    "        lr=learning_rate,\n",
    "    )\n",
    "    \n",
    "    for epoch in range(epochs):\n",
    "        train_loss = []\n",
    "        valid_loss = []\n",
    "        train_accuracy = []\n",
    "        valid_accuracy = []\n",
    "        \n",
    "        # Training loop\n",
    "        for (train_data, train_labels) in train_loader:\n",
    "            train_data = train_data.view(-1, 28 * 28)\n",
    "            # Forward pass\n",
    "            predicted = classifier(train_data)\n",
    "        \n",
    "            # Compute the loss\n",
    "            loss = criterion(predicted, train_labels)\n",
    "            train_loss.append(loss.item())\n",
    "            \n",
    "            # Compute training accuracy\n",
    "            predicted_classes = torch.argmax(predicted, axis=1)\n",
    "            train_accuracy.append(accuracy_score(train_labels.cpu(), predicted_classes.cpu()))\n",
    "            \n",
    "            # Backpropagation\n",
    "            optimizer.zero_grad()\n",
    "            loss.backward()\n",
    "            optimizer.step()\n",
    "            \n",
    "        # Validation loop\n",
    "        for (valid_data, valid_labels) in test_loader:\n",
    "            with torch.no_grad(): \n",
    "                valid_data = valid_data.view(-1, 28 * 28)\n",
    "                predicted = classifier(valid_data)\n",
    "                loss = criterion(predicted, valid_labels)\n",
    "                valid_loss.append(loss.item())\n",
    "                \n",
    "                # Compute validation accuracy\n",
    "                predicted_classes = torch.argmax(predicted, axis=1)\n",
    "                valid_accuracy.append(accuracy_score(valid_labels.cpu(), predicted_classes.cpu()))\n",
    "        \n",
    "        # Print epoch results\n",
    "        print(\"Epochs: [{}/{}] - train_loss: {:.4f} - valid_loss: {:.4f} - train_accuracy: {:.4f} - valid_accuracy: {:.4f}\".format(\n",
    "            epoch + 1, 10, np.mean(train_loss), np.mean(valid_loss), np.mean(train_accuracy), np.mean(valid_accuracy)\n",
    "            )\n",
    "        )\n",
    "        \n",
    "    return np.mean(valid_loss)"
   ]
  },
  {
   "cell_type": "code",
   "execution_count": 159,
   "metadata": {},
   "outputs": [],
   "source": [
    "import optuna"
   ]
  },
  {
   "cell_type": "code",
   "execution_count": 160,
   "metadata": {},
   "outputs": [
    {
     "name": "stderr",
     "output_type": "stream",
     "text": [
      "[I 2024-11-06 12:07:12,549] A new study created in memory with name: no-name-f4b4ab9d-d073-4d0c-a7ca-1fe88eccfed1\n"
     ]
    },
    {
     "name": "stdout",
     "output_type": "stream",
     "text": [
      "Epochs: [1/10] - train_loss: 0.0680 - valid_loss: 0.1225 - train_accuracy: 0.9781 - valid_accuracy: 0.9688\n",
      "Epochs: [2/10] - train_loss: 0.0690 - valid_loss: 0.1209 - train_accuracy: 0.9784 - valid_accuracy: 0.9684\n",
      "Epochs: [3/10] - train_loss: 0.0689 - valid_loss: 0.1238 - train_accuracy: 0.9779 - valid_accuracy: 0.9655\n",
      "Epochs: [4/10] - train_loss: 0.0690 - valid_loss: 0.1218 - train_accuracy: 0.9783 - valid_accuracy: 0.9687\n",
      "Epochs: [5/10] - train_loss: 0.0691 - valid_loss: 0.1239 - train_accuracy: 0.9783 - valid_accuracy: 0.9665\n",
      "Epochs: [6/10] - train_loss: 0.0668 - valid_loss: 0.1190 - train_accuracy: 0.9781 - valid_accuracy: 0.9661\n",
      "Epochs: [7/10] - train_loss: 0.0665 - valid_loss: 0.1259 - train_accuracy: 0.9788 - valid_accuracy: 0.9648\n",
      "Epochs: [8/10] - train_loss: 0.0686 - valid_loss: 0.1177 - train_accuracy: 0.9783 - valid_accuracy: 0.9673\n",
      "Epochs: [9/10] - train_loss: 0.0670 - valid_loss: 0.1125 - train_accuracy: 0.9783 - valid_accuracy: 0.9693\n",
      "Epochs: [10/10] - train_loss: 0.0676 - valid_loss: 0.1191 - train_accuracy: 0.9786 - valid_accuracy: 0.9667\n",
      "Epochs: [11/10] - train_loss: 0.0664 - valid_loss: 0.1147 - train_accuracy: 0.9785 - valid_accuracy: 0.9671\n",
      "Epochs: [12/10] - train_loss: 0.0658 - valid_loss: 0.1246 - train_accuracy: 0.9790 - valid_accuracy: 0.9681\n",
      "Epochs: [13/10] - train_loss: 0.0688 - valid_loss: 0.1201 - train_accuracy: 0.9782 - valid_accuracy: 0.9650\n",
      "Epochs: [14/10] - train_loss: 0.0679 - valid_loss: 0.1238 - train_accuracy: 0.9784 - valid_accuracy: 0.9674\n"
     ]
    },
    {
     "name": "stderr",
     "output_type": "stream",
     "text": [
      "[I 2024-11-06 12:10:50,763] Trial 0 finished with value: 0.11049108867442486 and parameters: {'lr': 0.000249463337907399, 'epochs': 15}. Best is trial 0 with value: 0.11049108867442486.\n"
     ]
    },
    {
     "name": "stdout",
     "output_type": "stream",
     "text": [
      "Epochs: [15/10] - train_loss: 0.0690 - valid_loss: 0.1105 - train_accuracy: 0.9778 - valid_accuracy: 0.9687\n",
      "Epochs: [1/10] - train_loss: 0.0679 - valid_loss: 0.1237 - train_accuracy: 0.9782 - valid_accuracy: 0.9672\n",
      "Epochs: [2/10] - train_loss: 0.0687 - valid_loss: 0.1148 - train_accuracy: 0.9783 - valid_accuracy: 0.9693\n",
      "Epochs: [3/10] - train_loss: 0.0682 - valid_loss: 0.1204 - train_accuracy: 0.9786 - valid_accuracy: 0.9674\n",
      "Epochs: [4/10] - train_loss: 0.0695 - valid_loss: 0.1149 - train_accuracy: 0.9782 - valid_accuracy: 0.9674\n"
     ]
    },
    {
     "name": "stderr",
     "output_type": "stream",
     "text": [
      "[I 2024-11-06 12:12:01,324] Trial 1 finished with value: 0.12406402679223635 and parameters: {'lr': 0.0002877132755124297, 'epochs': 5}. Best is trial 0 with value: 0.11049108867442486.\n"
     ]
    },
    {
     "name": "stdout",
     "output_type": "stream",
     "text": [
      "Epochs: [5/10] - train_loss: 0.0679 - valid_loss: 0.1241 - train_accuracy: 0.9786 - valid_accuracy: 0.9661\n",
      "Epochs: [1/10] - train_loss: 0.0681 - valid_loss: 0.1173 - train_accuracy: 0.9777 - valid_accuracy: 0.9674\n",
      "Epochs: [2/10] - train_loss: 0.0669 - valid_loss: 0.1227 - train_accuracy: 0.9782 - valid_accuracy: 0.9666\n",
      "Epochs: [3/10] - train_loss: 0.0688 - valid_loss: 0.1254 - train_accuracy: 0.9778 - valid_accuracy: 0.9652\n",
      "Epochs: [4/10] - train_loss: 0.0687 - valid_loss: 0.1170 - train_accuracy: 0.9790 - valid_accuracy: 0.9693\n",
      "Epochs: [5/10] - train_loss: 0.0683 - valid_loss: 0.1181 - train_accuracy: 0.9783 - valid_accuracy: 0.9676\n",
      "Epochs: [6/10] - train_loss: 0.0679 - valid_loss: 0.1223 - train_accuracy: 0.9781 - valid_accuracy: 0.9674\n",
      "Epochs: [7/10] - train_loss: 0.0676 - valid_loss: 0.1234 - train_accuracy: 0.9782 - valid_accuracy: 0.9678\n",
      "Epochs: [8/10] - train_loss: 0.0676 - valid_loss: 0.1142 - train_accuracy: 0.9778 - valid_accuracy: 0.9683\n",
      "Epochs: [9/10] - train_loss: 0.0697 - valid_loss: 0.1191 - train_accuracy: 0.9779 - valid_accuracy: 0.9692\n"
     ]
    },
    {
     "name": "stderr",
     "output_type": "stream",
     "text": [
      "[I 2024-11-06 12:14:27,102] Trial 2 finished with value: 0.12506424615391906 and parameters: {'lr': 0.0004871888586530506, 'epochs': 10}. Best is trial 0 with value: 0.11049108867442486.\n"
     ]
    },
    {
     "name": "stdout",
     "output_type": "stream",
     "text": [
      "Epochs: [10/10] - train_loss: 0.0666 - valid_loss: 0.1251 - train_accuracy: 0.9787 - valid_accuracy: 0.9675\n",
      "Epochs: [1/10] - train_loss: 0.0685 - valid_loss: 0.1264 - train_accuracy: 0.9782 - valid_accuracy: 0.9668\n",
      "Epochs: [2/10] - train_loss: 0.0695 - valid_loss: 0.1198 - train_accuracy: 0.9779 - valid_accuracy: 0.9685\n",
      "Epochs: [3/10] - train_loss: 0.0683 - valid_loss: 0.1151 - train_accuracy: 0.9781 - valid_accuracy: 0.9675\n",
      "Epochs: [4/10] - train_loss: 0.0691 - valid_loss: 0.1183 - train_accuracy: 0.9784 - valid_accuracy: 0.9673\n",
      "Epochs: [5/10] - train_loss: 0.0671 - valid_loss: 0.1228 - train_accuracy: 0.9781 - valid_accuracy: 0.9683\n",
      "Epochs: [6/10] - train_loss: 0.0671 - valid_loss: 0.1209 - train_accuracy: 0.9788 - valid_accuracy: 0.9678\n",
      "Epochs: [7/10] - train_loss: 0.0679 - valid_loss: 0.1109 - train_accuracy: 0.9781 - valid_accuracy: 0.9692\n",
      "Epochs: [8/10] - train_loss: 0.0671 - valid_loss: 0.1201 - train_accuracy: 0.9778 - valid_accuracy: 0.9662\n",
      "Epochs: [9/10] - train_loss: 0.0683 - valid_loss: 0.1190 - train_accuracy: 0.9783 - valid_accuracy: 0.9686\n",
      "Epochs: [10/10] - train_loss: 0.0678 - valid_loss: 0.1226 - train_accuracy: 0.9783 - valid_accuracy: 0.9668\n",
      "Epochs: [11/10] - train_loss: 0.0678 - valid_loss: 0.1189 - train_accuracy: 0.9782 - valid_accuracy: 0.9680\n",
      "Epochs: [12/10] - train_loss: 0.0694 - valid_loss: 0.1107 - train_accuracy: 0.9778 - valid_accuracy: 0.9701\n",
      "Epochs: [13/10] - train_loss: 0.0697 - valid_loss: 0.1112 - train_accuracy: 0.9783 - valid_accuracy: 0.9689\n",
      "Epochs: [14/10] - train_loss: 0.0688 - valid_loss: 0.1113 - train_accuracy: 0.9785 - valid_accuracy: 0.9682\n"
     ]
    },
    {
     "name": "stderr",
     "output_type": "stream",
     "text": [
      "[I 2024-11-06 12:18:00,511] Trial 3 finished with value: 0.11505904900760777 and parameters: {'lr': 0.00010340846864709109, 'epochs': 15}. Best is trial 0 with value: 0.11049108867442486.\n"
     ]
    },
    {
     "name": "stdout",
     "output_type": "stream",
     "text": [
      "Epochs: [15/10] - train_loss: 0.0676 - valid_loss: 0.1151 - train_accuracy: 0.9786 - valid_accuracy: 0.9694\n",
      "Epochs: [1/10] - train_loss: 0.0668 - valid_loss: 0.1135 - train_accuracy: 0.9783 - valid_accuracy: 0.9690\n",
      "Epochs: [2/10] - train_loss: 0.0700 - valid_loss: 0.1214 - train_accuracy: 0.9776 - valid_accuracy: 0.9672\n",
      "Epochs: [3/10] - train_loss: 0.0676 - valid_loss: 0.1158 - train_accuracy: 0.9786 - valid_accuracy: 0.9671\n",
      "Epochs: [4/10] - train_loss: 0.0659 - valid_loss: 0.1190 - train_accuracy: 0.9783 - valid_accuracy: 0.9681\n"
     ]
    },
    {
     "name": "stderr",
     "output_type": "stream",
     "text": [
      "[I 2024-11-06 12:19:11,725] Trial 4 finished with value: 0.11708964265141099 and parameters: {'lr': 0.0002500918954260154, 'epochs': 5}. Best is trial 0 with value: 0.11049108867442486.\n"
     ]
    },
    {
     "name": "stdout",
     "output_type": "stream",
     "text": [
      "Epochs: [5/10] - train_loss: 0.0676 - valid_loss: 0.1171 - train_accuracy: 0.9774 - valid_accuracy: 0.9701\n",
      "Epochs: [1/10] - train_loss: 0.0667 - valid_loss: 0.1217 - train_accuracy: 0.9777 - valid_accuracy: 0.9688\n",
      "Epochs: [2/10] - train_loss: 0.0662 - valid_loss: 0.1137 - train_accuracy: 0.9785 - valid_accuracy: 0.9685\n",
      "Epochs: [3/10] - train_loss: 0.0675 - valid_loss: 0.1219 - train_accuracy: 0.9780 - valid_accuracy: 0.9665\n",
      "Epochs: [4/10] - train_loss: 0.0691 - valid_loss: 0.1221 - train_accuracy: 0.9782 - valid_accuracy: 0.9651\n",
      "Epochs: [5/10] - train_loss: 0.0668 - valid_loss: 0.1136 - train_accuracy: 0.9788 - valid_accuracy: 0.9689\n",
      "Epochs: [6/10] - train_loss: 0.0682 - valid_loss: 0.1180 - train_accuracy: 0.9787 - valid_accuracy: 0.9682\n",
      "Epochs: [7/10] - train_loss: 0.0665 - valid_loss: 0.1171 - train_accuracy: 0.9780 - valid_accuracy: 0.9680\n",
      "Epochs: [8/10] - train_loss: 0.0705 - valid_loss: 0.1157 - train_accuracy: 0.9772 - valid_accuracy: 0.9686\n",
      "Epochs: [9/10] - train_loss: 0.0667 - valid_loss: 0.1235 - train_accuracy: 0.9782 - valid_accuracy: 0.9685\n",
      "Epochs: [10/10] - train_loss: 0.0679 - valid_loss: 0.1218 - train_accuracy: 0.9790 - valid_accuracy: 0.9682\n",
      "Epochs: [11/10] - train_loss: 0.0666 - valid_loss: 0.1215 - train_accuracy: 0.9782 - valid_accuracy: 0.9669\n",
      "Epochs: [12/10] - train_loss: 0.0674 - valid_loss: 0.1224 - train_accuracy: 0.9786 - valid_accuracy: 0.9671\n",
      "Epochs: [13/10] - train_loss: 0.0688 - valid_loss: 0.1240 - train_accuracy: 0.9774 - valid_accuracy: 0.9660\n",
      "Epochs: [14/10] - train_loss: 0.0668 - valid_loss: 0.1225 - train_accuracy: 0.9786 - valid_accuracy: 0.9659\n"
     ]
    },
    {
     "name": "stderr",
     "output_type": "stream",
     "text": [
      "[I 2024-11-06 12:22:45,226] Trial 5 finished with value: 0.11221163561017101 and parameters: {'lr': 0.0002462150466071388, 'epochs': 15}. Best is trial 0 with value: 0.11049108867442486.\n"
     ]
    },
    {
     "name": "stdout",
     "output_type": "stream",
     "text": [
      "Epochs: [15/10] - train_loss: 0.0690 - valid_loss: 0.1122 - train_accuracy: 0.9783 - valid_accuracy: 0.9690\n",
      "Epochs: [1/10] - train_loss: 0.0705 - valid_loss: 0.1178 - train_accuracy: 0.9769 - valid_accuracy: 0.9669\n",
      "Epochs: [2/10] - train_loss: 0.0685 - valid_loss: 0.1286 - train_accuracy: 0.9784 - valid_accuracy: 0.9672\n",
      "Epochs: [3/10] - train_loss: 0.0688 - valid_loss: 0.1152 - train_accuracy: 0.9777 - valid_accuracy: 0.9677\n",
      "Epochs: [4/10] - train_loss: 0.0685 - valid_loss: 0.1189 - train_accuracy: 0.9779 - valid_accuracy: 0.9668\n",
      "Epochs: [5/10] - train_loss: 0.0675 - valid_loss: 0.1196 - train_accuracy: 0.9778 - valid_accuracy: 0.9681\n",
      "Epochs: [6/10] - train_loss: 0.0686 - valid_loss: 0.1238 - train_accuracy: 0.9782 - valid_accuracy: 0.9665\n",
      "Epochs: [7/10] - train_loss: 0.0675 - valid_loss: 0.1265 - train_accuracy: 0.9780 - valid_accuracy: 0.9667\n",
      "Epochs: [8/10] - train_loss: 0.0678 - valid_loss: 0.1111 - train_accuracy: 0.9791 - valid_accuracy: 0.9682\n",
      "Epochs: [9/10] - train_loss: 0.0675 - valid_loss: 0.1232 - train_accuracy: 0.9789 - valid_accuracy: 0.9673\n",
      "Epochs: [10/10] - train_loss: 0.0664 - valid_loss: 0.1166 - train_accuracy: 0.9787 - valid_accuracy: 0.9688\n",
      "Epochs: [11/10] - train_loss: 0.0682 - valid_loss: 0.1203 - train_accuracy: 0.9789 - valid_accuracy: 0.9694\n",
      "Epochs: [12/10] - train_loss: 0.0650 - valid_loss: 0.1136 - train_accuracy: 0.9786 - valid_accuracy: 0.9682\n",
      "Epochs: [13/10] - train_loss: 0.0695 - valid_loss: 0.1196 - train_accuracy: 0.9775 - valid_accuracy: 0.9681\n",
      "Epochs: [14/10] - train_loss: 0.0676 - valid_loss: 0.1258 - train_accuracy: 0.9781 - valid_accuracy: 0.9663\n"
     ]
    },
    {
     "name": "stderr",
     "output_type": "stream",
     "text": [
      "[I 2024-11-06 12:26:16,962] Trial 6 finished with value: 0.10999692967509578 and parameters: {'lr': 0.0006677854637103457, 'epochs': 15}. Best is trial 6 with value: 0.10999692967509578.\n"
     ]
    },
    {
     "name": "stdout",
     "output_type": "stream",
     "text": [
      "Epochs: [15/10] - train_loss: 0.0683 - valid_loss: 0.1100 - train_accuracy: 0.9775 - valid_accuracy: 0.9688\n",
      "Epochs: [1/10] - train_loss: 0.0696 - valid_loss: 0.1101 - train_accuracy: 0.9777 - valid_accuracy: 0.9666\n",
      "Epochs: [2/10] - train_loss: 0.0682 - valid_loss: 0.1248 - train_accuracy: 0.9778 - valid_accuracy: 0.9649\n",
      "Epochs: [3/10] - train_loss: 0.0674 - valid_loss: 0.1270 - train_accuracy: 0.9784 - valid_accuracy: 0.9677\n",
      "Epochs: [4/10] - train_loss: 0.0663 - valid_loss: 0.1306 - train_accuracy: 0.9790 - valid_accuracy: 0.9655\n",
      "Epochs: [5/10] - train_loss: 0.0659 - valid_loss: 0.1209 - train_accuracy: 0.9785 - valid_accuracy: 0.9695\n",
      "Epochs: [6/10] - train_loss: 0.0685 - valid_loss: 0.1116 - train_accuracy: 0.9775 - valid_accuracy: 0.9687\n",
      "Epochs: [7/10] - train_loss: 0.0662 - valid_loss: 0.1137 - train_accuracy: 0.9781 - valid_accuracy: 0.9689\n",
      "Epochs: [8/10] - train_loss: 0.0674 - valid_loss: 0.1211 - train_accuracy: 0.9786 - valid_accuracy: 0.9682\n",
      "Epochs: [9/10] - train_loss: 0.0681 - valid_loss: 0.1176 - train_accuracy: 0.9780 - valid_accuracy: 0.9674\n"
     ]
    },
    {
     "name": "stderr",
     "output_type": "stream",
     "text": [
      "[I 2024-11-06 12:28:36,693] Trial 7 finished with value: 0.11283006013418692 and parameters: {'lr': 0.0006724470598216352, 'epochs': 10}. Best is trial 6 with value: 0.10999692967509578.\n"
     ]
    },
    {
     "name": "stdout",
     "output_type": "stream",
     "text": [
      "Epochs: [10/10] - train_loss: 0.0692 - valid_loss: 0.1128 - train_accuracy: 0.9775 - valid_accuracy: 0.9689\n",
      "Epochs: [1/10] - train_loss: 0.0687 - valid_loss: 0.1155 - train_accuracy: 0.9784 - valid_accuracy: 0.9681\n",
      "Epochs: [2/10] - train_loss: 0.0655 - valid_loss: 0.1204 - train_accuracy: 0.9786 - valid_accuracy: 0.9669\n",
      "Epochs: [3/10] - train_loss: 0.0685 - valid_loss: 0.1121 - train_accuracy: 0.9785 - valid_accuracy: 0.9690\n",
      "Epochs: [4/10] - train_loss: 0.0653 - valid_loss: 0.1192 - train_accuracy: 0.9785 - valid_accuracy: 0.9681\n",
      "Epochs: [5/10] - train_loss: 0.0661 - valid_loss: 0.1191 - train_accuracy: 0.9784 - valid_accuracy: 0.9681\n",
      "Epochs: [6/10] - train_loss: 0.0670 - valid_loss: 0.1206 - train_accuracy: 0.9783 - valid_accuracy: 0.9667\n",
      "Epochs: [7/10] - train_loss: 0.0661 - valid_loss: 0.1199 - train_accuracy: 0.9781 - valid_accuracy: 0.9663\n",
      "Epochs: [8/10] - train_loss: 0.0671 - valid_loss: 0.1273 - train_accuracy: 0.9782 - valid_accuracy: 0.9652\n",
      "Epochs: [9/10] - train_loss: 0.0646 - valid_loss: 0.1179 - train_accuracy: 0.9791 - valid_accuracy: 0.9680\n",
      "Epochs: [10/10] - train_loss: 0.0676 - valid_loss: 0.1162 - train_accuracy: 0.9781 - valid_accuracy: 0.9690\n",
      "Epochs: [11/10] - train_loss: 0.0687 - valid_loss: 0.1196 - train_accuracy: 0.9782 - valid_accuracy: 0.9669\n",
      "Epochs: [12/10] - train_loss: 0.0702 - valid_loss: 0.1239 - train_accuracy: 0.9780 - valid_accuracy: 0.9659\n",
      "Epochs: [13/10] - train_loss: 0.0666 - valid_loss: 0.1147 - train_accuracy: 0.9781 - valid_accuracy: 0.9677\n",
      "Epochs: [14/10] - train_loss: 0.0667 - valid_loss: 0.1177 - train_accuracy: 0.9786 - valid_accuracy: 0.9674\n"
     ]
    },
    {
     "name": "stderr",
     "output_type": "stream",
     "text": [
      "[I 2024-11-06 12:32:06,783] Trial 8 finished with value: 0.11512665811200941 and parameters: {'lr': 0.0002576771619487438, 'epochs': 15}. Best is trial 6 with value: 0.10999692967509578.\n"
     ]
    },
    {
     "name": "stdout",
     "output_type": "stream",
     "text": [
      "Epochs: [15/10] - train_loss: 0.0670 - valid_loss: 0.1151 - train_accuracy: 0.9787 - valid_accuracy: 0.9677\n",
      "Epochs: [1/10] - train_loss: 0.0677 - valid_loss: 0.1255 - train_accuracy: 0.9790 - valid_accuracy: 0.9665\n",
      "Epochs: [2/10] - train_loss: 0.0694 - valid_loss: 0.1187 - train_accuracy: 0.9777 - valid_accuracy: 0.9670\n",
      "Epochs: [3/10] - train_loss: 0.0686 - valid_loss: 0.1149 - train_accuracy: 0.9777 - valid_accuracy: 0.9666\n",
      "Epochs: [4/10] - train_loss: 0.0669 - valid_loss: 0.1115 - train_accuracy: 0.9784 - valid_accuracy: 0.9700\n",
      "Epochs: [5/10] - train_loss: 0.0672 - valid_loss: 0.1221 - train_accuracy: 0.9786 - valid_accuracy: 0.9684\n",
      "Epochs: [6/10] - train_loss: 0.0668 - valid_loss: 0.1198 - train_accuracy: 0.9780 - valid_accuracy: 0.9668\n",
      "Epochs: [7/10] - train_loss: 0.0674 - valid_loss: 0.1207 - train_accuracy: 0.9785 - valid_accuracy: 0.9653\n",
      "Epochs: [8/10] - train_loss: 0.0674 - valid_loss: 0.1246 - train_accuracy: 0.9786 - valid_accuracy: 0.9654\n",
      "Epochs: [9/10] - train_loss: 0.0699 - valid_loss: 0.1221 - train_accuracy: 0.9773 - valid_accuracy: 0.9677\n"
     ]
    },
    {
     "name": "stderr",
     "output_type": "stream",
     "text": [
      "[I 2024-11-06 12:34:26,061] Trial 9 finished with value: 0.11830947887201372 and parameters: {'lr': 0.0004422461101214166, 'epochs': 10}. Best is trial 6 with value: 0.10999692967509578.\n"
     ]
    },
    {
     "name": "stdout",
     "output_type": "stream",
     "text": [
      "Epochs: [10/10] - train_loss: 0.0715 - valid_loss: 0.1183 - train_accuracy: 0.9775 - valid_accuracy: 0.9677\n",
      "Epochs: [1/10] - train_loss: 0.0658 - valid_loss: 0.1244 - train_accuracy: 0.9790 - valid_accuracy: 0.9675\n",
      "Epochs: [2/10] - train_loss: 0.0676 - valid_loss: 0.1180 - train_accuracy: 0.9777 - valid_accuracy: 0.9672\n",
      "Epochs: [3/10] - train_loss: 0.0668 - valid_loss: 0.1166 - train_accuracy: 0.9782 - valid_accuracy: 0.9679\n",
      "Epochs: [4/10] - train_loss: 0.0675 - valid_loss: 0.1203 - train_accuracy: 0.9787 - valid_accuracy: 0.9657\n",
      "Epochs: [5/10] - train_loss: 0.0672 - valid_loss: 0.1274 - train_accuracy: 0.9785 - valid_accuracy: 0.9665\n",
      "Epochs: [6/10] - train_loss: 0.0665 - valid_loss: 0.1124 - train_accuracy: 0.9788 - valid_accuracy: 0.9688\n",
      "Epochs: [7/10] - train_loss: 0.0680 - valid_loss: 0.1155 - train_accuracy: 0.9783 - valid_accuracy: 0.9680\n",
      "Epochs: [8/10] - train_loss: 0.0676 - valid_loss: 0.1203 - train_accuracy: 0.9779 - valid_accuracy: 0.9668\n",
      "Epochs: [9/10] - train_loss: 0.0671 - valid_loss: 0.1161 - train_accuracy: 0.9785 - valid_accuracy: 0.9683\n",
      "Epochs: [10/10] - train_loss: 0.0672 - valid_loss: 0.1191 - train_accuracy: 0.9779 - valid_accuracy: 0.9677\n",
      "Epochs: [11/10] - train_loss: 0.0664 - valid_loss: 0.1199 - train_accuracy: 0.9780 - valid_accuracy: 0.9686\n",
      "Epochs: [12/10] - train_loss: 0.0682 - valid_loss: 0.1163 - train_accuracy: 0.9785 - valid_accuracy: 0.9669\n",
      "Epochs: [13/10] - train_loss: 0.0670 - valid_loss: 0.1295 - train_accuracy: 0.9789 - valid_accuracy: 0.9637\n",
      "Epochs: [14/10] - train_loss: 0.0667 - valid_loss: 0.1149 - train_accuracy: 0.9780 - valid_accuracy: 0.9690\n"
     ]
    },
    {
     "name": "stderr",
     "output_type": "stream",
     "text": [
      "[I 2024-11-06 12:37:53,850] Trial 10 finished with value: 0.11515415458972225 and parameters: {'lr': 0.0009019137333723302, 'epochs': 15}. Best is trial 6 with value: 0.10999692967509578.\n"
     ]
    },
    {
     "name": "stdout",
     "output_type": "stream",
     "text": [
      "Epochs: [15/10] - train_loss: 0.0687 - valid_loss: 0.1152 - train_accuracy: 0.9778 - valid_accuracy: 0.9681\n",
      "Epochs: [1/10] - train_loss: 0.0701 - valid_loss: 0.1137 - train_accuracy: 0.9777 - valid_accuracy: 0.9683\n",
      "Epochs: [2/10] - train_loss: 0.0694 - valid_loss: 0.1189 - train_accuracy: 0.9772 - valid_accuracy: 0.9673\n",
      "Epochs: [3/10] - train_loss: 0.0689 - valid_loss: 0.1115 - train_accuracy: 0.9782 - valid_accuracy: 0.9683\n",
      "Epochs: [4/10] - train_loss: 0.0689 - valid_loss: 0.1196 - train_accuracy: 0.9790 - valid_accuracy: 0.9668\n",
      "Epochs: [5/10] - train_loss: 0.0698 - valid_loss: 0.1181 - train_accuracy: 0.9775 - valid_accuracy: 0.9686\n",
      "Epochs: [6/10] - train_loss: 0.0717 - valid_loss: 0.1138 - train_accuracy: 0.9773 - valid_accuracy: 0.9690\n",
      "Epochs: [7/10] - train_loss: 0.0664 - valid_loss: 0.1198 - train_accuracy: 0.9783 - valid_accuracy: 0.9669\n",
      "Epochs: [8/10] - train_loss: 0.0703 - valid_loss: 0.1170 - train_accuracy: 0.9776 - valid_accuracy: 0.9692\n",
      "Epochs: [9/10] - train_loss: 0.0686 - valid_loss: 0.1186 - train_accuracy: 0.9778 - valid_accuracy: 0.9682\n",
      "Epochs: [10/10] - train_loss: 0.0720 - valid_loss: 0.1210 - train_accuracy: 0.9775 - valid_accuracy: 0.9658\n",
      "Epochs: [11/10] - train_loss: 0.0680 - valid_loss: 0.1106 - train_accuracy: 0.9786 - valid_accuracy: 0.9685\n",
      "Epochs: [12/10] - train_loss: 0.0672 - valid_loss: 0.1213 - train_accuracy: 0.9793 - valid_accuracy: 0.9677\n",
      "Epochs: [13/10] - train_loss: 0.0642 - valid_loss: 0.1106 - train_accuracy: 0.9788 - valid_accuracy: 0.9683\n",
      "Epochs: [14/10] - train_loss: 0.0661 - valid_loss: 0.1207 - train_accuracy: 0.9788 - valid_accuracy: 0.9658\n"
     ]
    },
    {
     "name": "stderr",
     "output_type": "stream",
     "text": [
      "[I 2024-11-06 12:41:21,790] Trial 11 finished with value: 0.12418896687204266 and parameters: {'lr': 0.0007257417114435755, 'epochs': 15}. Best is trial 6 with value: 0.10999692967509578.\n"
     ]
    },
    {
     "name": "stdout",
     "output_type": "stream",
     "text": [
      "Epochs: [15/10] - train_loss: 0.0689 - valid_loss: 0.1242 - train_accuracy: 0.9778 - valid_accuracy: 0.9668\n",
      "Epochs: [1/10] - train_loss: 0.0674 - valid_loss: 0.1228 - train_accuracy: 0.9778 - valid_accuracy: 0.9686\n",
      "Epochs: [2/10] - train_loss: 0.0658 - valid_loss: 0.1144 - train_accuracy: 0.9784 - valid_accuracy: 0.9666\n",
      "Epochs: [3/10] - train_loss: 0.0697 - valid_loss: 0.1190 - train_accuracy: 0.9776 - valid_accuracy: 0.9688\n",
      "Epochs: [4/10] - train_loss: 0.0680 - valid_loss: 0.1195 - train_accuracy: 0.9781 - valid_accuracy: 0.9670\n",
      "Epochs: [5/10] - train_loss: 0.0667 - valid_loss: 0.1145 - train_accuracy: 0.9790 - valid_accuracy: 0.9687\n",
      "Epochs: [6/10] - train_loss: 0.0678 - valid_loss: 0.1241 - train_accuracy: 0.9783 - valid_accuracy: 0.9688\n",
      "Epochs: [7/10] - train_loss: 0.0676 - valid_loss: 0.1105 - train_accuracy: 0.9787 - valid_accuracy: 0.9693\n",
      "Epochs: [8/10] - train_loss: 0.0656 - valid_loss: 0.1168 - train_accuracy: 0.9786 - valid_accuracy: 0.9681\n",
      "Epochs: [9/10] - train_loss: 0.0683 - valid_loss: 0.1233 - train_accuracy: 0.9778 - valid_accuracy: 0.9663\n",
      "Epochs: [10/10] - train_loss: 0.0665 - valid_loss: 0.1223 - train_accuracy: 0.9784 - valid_accuracy: 0.9659\n",
      "Epochs: [11/10] - train_loss: 0.0668 - valid_loss: 0.1218 - train_accuracy: 0.9782 - valid_accuracy: 0.9681\n",
      "Epochs: [12/10] - train_loss: 0.0672 - valid_loss: 0.1169 - train_accuracy: 0.9788 - valid_accuracy: 0.9677\n",
      "Epochs: [13/10] - train_loss: 0.0672 - valid_loss: 0.1229 - train_accuracy: 0.9783 - valid_accuracy: 0.9669\n",
      "Epochs: [14/10] - train_loss: 0.0678 - valid_loss: 0.1120 - train_accuracy: 0.9782 - valid_accuracy: 0.9689\n"
     ]
    },
    {
     "name": "stderr",
     "output_type": "stream",
     "text": [
      "[I 2024-11-06 12:44:49,819] Trial 12 finished with value: 0.11134280741596995 and parameters: {'lr': 0.0006478425390364752, 'epochs': 15}. Best is trial 6 with value: 0.10999692967509578.\n"
     ]
    },
    {
     "name": "stdout",
     "output_type": "stream",
     "text": [
      "Epochs: [15/10] - train_loss: 0.0683 - valid_loss: 0.1113 - train_accuracy: 0.9783 - valid_accuracy: 0.9673\n",
      "Epochs: [1/10] - train_loss: 0.0673 - valid_loss: 0.1227 - train_accuracy: 0.9780 - valid_accuracy: 0.9657\n",
      "Epochs: [2/10] - train_loss: 0.0681 - valid_loss: 0.1157 - train_accuracy: 0.9782 - valid_accuracy: 0.9676\n",
      "Epochs: [3/10] - train_loss: 0.0689 - valid_loss: 0.1176 - train_accuracy: 0.9779 - valid_accuracy: 0.9665\n",
      "Epochs: [4/10] - train_loss: 0.0673 - valid_loss: 0.1167 - train_accuracy: 0.9787 - valid_accuracy: 0.9674\n",
      "Epochs: [5/10] - train_loss: 0.0675 - valid_loss: 0.1177 - train_accuracy: 0.9774 - valid_accuracy: 0.9669\n",
      "Epochs: [6/10] - train_loss: 0.0685 - valid_loss: 0.1278 - train_accuracy: 0.9783 - valid_accuracy: 0.9653\n",
      "Epochs: [7/10] - train_loss: 0.0681 - valid_loss: 0.1270 - train_accuracy: 0.9778 - valid_accuracy: 0.9662\n",
      "Epochs: [8/10] - train_loss: 0.0669 - valid_loss: 0.1170 - train_accuracy: 0.9787 - valid_accuracy: 0.9678\n",
      "Epochs: [9/10] - train_loss: 0.0670 - valid_loss: 0.1142 - train_accuracy: 0.9788 - valid_accuracy: 0.9695\n",
      "Epochs: [10/10] - train_loss: 0.0690 - valid_loss: 0.1157 - train_accuracy: 0.9779 - valid_accuracy: 0.9680\n",
      "Epochs: [11/10] - train_loss: 0.0679 - valid_loss: 0.1164 - train_accuracy: 0.9781 - valid_accuracy: 0.9678\n",
      "Epochs: [12/10] - train_loss: 0.0677 - valid_loss: 0.1112 - train_accuracy: 0.9781 - valid_accuracy: 0.9679\n",
      "Epochs: [13/10] - train_loss: 0.0665 - valid_loss: 0.1189 - train_accuracy: 0.9786 - valid_accuracy: 0.9678\n",
      "Epochs: [14/10] - train_loss: 0.0680 - valid_loss: 0.1182 - train_accuracy: 0.9781 - valid_accuracy: 0.9671\n"
     ]
    },
    {
     "name": "stderr",
     "output_type": "stream",
     "text": [
      "[I 2024-11-06 12:48:17,838] Trial 13 finished with value: 0.11972607959093468 and parameters: {'lr': 0.0009012743332370021, 'epochs': 15}. Best is trial 6 with value: 0.10999692967509578.\n"
     ]
    },
    {
     "name": "stdout",
     "output_type": "stream",
     "text": [
      "Epochs: [15/10] - train_loss: 0.0666 - valid_loss: 0.1197 - train_accuracy: 0.9784 - valid_accuracy: 0.9675\n",
      "Epochs: [1/10] - train_loss: 0.0704 - valid_loss: 0.1174 - train_accuracy: 0.9773 - valid_accuracy: 0.9687\n",
      "Epochs: [2/10] - train_loss: 0.0696 - valid_loss: 0.1196 - train_accuracy: 0.9778 - valid_accuracy: 0.9681\n",
      "Epochs: [3/10] - train_loss: 0.0658 - valid_loss: 0.1217 - train_accuracy: 0.9786 - valid_accuracy: 0.9663\n",
      "Epochs: [4/10] - train_loss: 0.0677 - valid_loss: 0.1070 - train_accuracy: 0.9789 - valid_accuracy: 0.9709\n",
      "Epochs: [5/10] - train_loss: 0.0691 - valid_loss: 0.1176 - train_accuracy: 0.9779 - valid_accuracy: 0.9672\n",
      "Epochs: [6/10] - train_loss: 0.0687 - valid_loss: 0.1232 - train_accuracy: 0.9783 - valid_accuracy: 0.9675\n",
      "Epochs: [7/10] - train_loss: 0.0675 - valid_loss: 0.1160 - train_accuracy: 0.9786 - valid_accuracy: 0.9684\n",
      "Epochs: [8/10] - train_loss: 0.0672 - valid_loss: 0.1129 - train_accuracy: 0.9783 - valid_accuracy: 0.9689\n",
      "Epochs: [9/10] - train_loss: 0.0712 - valid_loss: 0.1163 - train_accuracy: 0.9768 - valid_accuracy: 0.9698\n",
      "Epochs: [10/10] - train_loss: 0.0699 - valid_loss: 0.1228 - train_accuracy: 0.9776 - valid_accuracy: 0.9669\n",
      "Epochs: [11/10] - train_loss: 0.0672 - valid_loss: 0.1192 - train_accuracy: 0.9786 - valid_accuracy: 0.9658\n",
      "Epochs: [12/10] - train_loss: 0.0681 - valid_loss: 0.1141 - train_accuracy: 0.9782 - valid_accuracy: 0.9665\n",
      "Epochs: [13/10] - train_loss: 0.0664 - valid_loss: 0.1201 - train_accuracy: 0.9779 - valid_accuracy: 0.9671\n",
      "Epochs: [14/10] - train_loss: 0.0686 - valid_loss: 0.1147 - train_accuracy: 0.9782 - valid_accuracy: 0.9686\n"
     ]
    },
    {
     "name": "stderr",
     "output_type": "stream",
     "text": [
      "[I 2024-11-06 12:51:46,490] Trial 14 finished with value: 0.12047240817067577 and parameters: {'lr': 0.000402571934100764, 'epochs': 15}. Best is trial 6 with value: 0.10999692967509578.\n"
     ]
    },
    {
     "name": "stdout",
     "output_type": "stream",
     "text": [
      "Epochs: [15/10] - train_loss: 0.0671 - valid_loss: 0.1205 - train_accuracy: 0.9782 - valid_accuracy: 0.9675\n",
      "Epochs: [1/10] - train_loss: 0.0686 - valid_loss: 0.1263 - train_accuracy: 0.9775 - valid_accuracy: 0.9674\n",
      "Epochs: [2/10] - train_loss: 0.0678 - valid_loss: 0.1169 - train_accuracy: 0.9785 - valid_accuracy: 0.9654\n",
      "Epochs: [3/10] - train_loss: 0.0674 - valid_loss: 0.1145 - train_accuracy: 0.9783 - valid_accuracy: 0.9676\n",
      "Epochs: [4/10] - train_loss: 0.0663 - valid_loss: 0.1158 - train_accuracy: 0.9788 - valid_accuracy: 0.9677\n"
     ]
    },
    {
     "name": "stderr",
     "output_type": "stream",
     "text": [
      "[I 2024-11-06 12:52:58,102] Trial 15 finished with value: 0.11531121978957234 and parameters: {'lr': 0.0007921283388843263, 'epochs': 5}. Best is trial 6 with value: 0.10999692967509578.\n"
     ]
    },
    {
     "name": "stdout",
     "output_type": "stream",
     "text": [
      "Epochs: [5/10] - train_loss: 0.0660 - valid_loss: 0.1153 - train_accuracy: 0.9786 - valid_accuracy: 0.9663\n",
      "Epochs: [1/10] - train_loss: 0.0684 - valid_loss: 0.1192 - train_accuracy: 0.9781 - valid_accuracy: 0.9663\n",
      "Epochs: [2/10] - train_loss: 0.0685 - valid_loss: 0.1147 - train_accuracy: 0.9782 - valid_accuracy: 0.9680\n",
      "Epochs: [3/10] - train_loss: 0.0687 - valid_loss: 0.1171 - train_accuracy: 0.9780 - valid_accuracy: 0.9687\n",
      "Epochs: [4/10] - train_loss: 0.0680 - valid_loss: 0.1134 - train_accuracy: 0.9789 - valid_accuracy: 0.9682\n",
      "Epochs: [5/10] - train_loss: 0.0678 - valid_loss: 0.1265 - train_accuracy: 0.9780 - valid_accuracy: 0.9669\n",
      "Epochs: [6/10] - train_loss: 0.0687 - valid_loss: 0.1160 - train_accuracy: 0.9779 - valid_accuracy: 0.9681\n",
      "Epochs: [7/10] - train_loss: 0.0682 - valid_loss: 0.1139 - train_accuracy: 0.9786 - valid_accuracy: 0.9680\n",
      "Epochs: [8/10] - train_loss: 0.0681 - valid_loss: 0.1146 - train_accuracy: 0.9780 - valid_accuracy: 0.9691\n",
      "Epochs: [9/10] - train_loss: 0.0667 - valid_loss: 0.1114 - train_accuracy: 0.9788 - valid_accuracy: 0.9676\n",
      "Epochs: [10/10] - train_loss: 0.0698 - valid_loss: 0.1132 - train_accuracy: 0.9773 - valid_accuracy: 0.9673\n",
      "Epochs: [11/10] - train_loss: 0.0678 - valid_loss: 0.1171 - train_accuracy: 0.9791 - valid_accuracy: 0.9662\n",
      "Epochs: [12/10] - train_loss: 0.0688 - valid_loss: 0.1294 - train_accuracy: 0.9777 - valid_accuracy: 0.9644\n",
      "Epochs: [13/10] - train_loss: 0.0691 - valid_loss: 0.1230 - train_accuracy: 0.9779 - valid_accuracy: 0.9666\n",
      "Epochs: [14/10] - train_loss: 0.0677 - valid_loss: 0.1151 - train_accuracy: 0.9787 - valid_accuracy: 0.9679\n"
     ]
    },
    {
     "name": "stderr",
     "output_type": "stream",
     "text": [
      "[I 2024-11-06 12:56:27,277] Trial 16 finished with value: 0.11746165451689536 and parameters: {'lr': 0.0005810854235795298, 'epochs': 15}. Best is trial 6 with value: 0.10999692967509578.\n"
     ]
    },
    {
     "name": "stdout",
     "output_type": "stream",
     "text": [
      "Epochs: [15/10] - train_loss: 0.0681 - valid_loss: 0.1175 - train_accuracy: 0.9778 - valid_accuracy: 0.9660\n",
      "Epochs: [1/10] - train_loss: 0.0704 - valid_loss: 0.1184 - train_accuracy: 0.9777 - valid_accuracy: 0.9678\n",
      "Epochs: [2/10] - train_loss: 0.0692 - valid_loss: 0.1232 - train_accuracy: 0.9782 - valid_accuracy: 0.9648\n",
      "Epochs: [3/10] - train_loss: 0.0686 - valid_loss: 0.1214 - train_accuracy: 0.9774 - valid_accuracy: 0.9670\n",
      "Epochs: [4/10] - train_loss: 0.0665 - valid_loss: 0.1247 - train_accuracy: 0.9786 - valid_accuracy: 0.9670\n",
      "Epochs: [5/10] - train_loss: 0.0661 - valid_loss: 0.1214 - train_accuracy: 0.9792 - valid_accuracy: 0.9665\n",
      "Epochs: [6/10] - train_loss: 0.0703 - valid_loss: 0.1198 - train_accuracy: 0.9775 - valid_accuracy: 0.9662\n",
      "Epochs: [7/10] - train_loss: 0.0684 - valid_loss: 0.1222 - train_accuracy: 0.9774 - valid_accuracy: 0.9686\n",
      "Epochs: [8/10] - train_loss: 0.0694 - valid_loss: 0.1156 - train_accuracy: 0.9781 - valid_accuracy: 0.9676\n",
      "Epochs: [9/10] - train_loss: 0.0677 - valid_loss: 0.1153 - train_accuracy: 0.9786 - valid_accuracy: 0.9678\n",
      "Epochs: [10/10] - train_loss: 0.0665 - valid_loss: 0.1094 - train_accuracy: 0.9784 - valid_accuracy: 0.9694\n",
      "Epochs: [11/10] - train_loss: 0.0679 - valid_loss: 0.1155 - train_accuracy: 0.9780 - valid_accuracy: 0.9661\n",
      "Epochs: [12/10] - train_loss: 0.0676 - valid_loss: 0.1174 - train_accuracy: 0.9777 - valid_accuracy: 0.9678\n",
      "Epochs: [13/10] - train_loss: 0.0663 - valid_loss: 0.1163 - train_accuracy: 0.9784 - valid_accuracy: 0.9688\n",
      "Epochs: [14/10] - train_loss: 0.0692 - valid_loss: 0.1217 - train_accuracy: 0.9786 - valid_accuracy: 0.9660\n"
     ]
    },
    {
     "name": "stderr",
     "output_type": "stream",
     "text": [
      "[I 2024-11-06 13:00:13,031] Trial 17 finished with value: 0.11883863789790568 and parameters: {'lr': 0.0005490169304435804, 'epochs': 15}. Best is trial 6 with value: 0.10999692967509578.\n"
     ]
    },
    {
     "name": "stdout",
     "output_type": "stream",
     "text": [
      "Epochs: [15/10] - train_loss: 0.0667 - valid_loss: 0.1188 - train_accuracy: 0.9782 - valid_accuracy: 0.9680\n",
      "Epochs: [1/10] - train_loss: 0.0672 - valid_loss: 0.1273 - train_accuracy: 0.9790 - valid_accuracy: 0.9667\n",
      "Epochs: [2/10] - train_loss: 0.0660 - valid_loss: 0.1206 - train_accuracy: 0.9783 - valid_accuracy: 0.9670\n",
      "Epochs: [3/10] - train_loss: 0.0677 - valid_loss: 0.1182 - train_accuracy: 0.9776 - valid_accuracy: 0.9673\n",
      "Epochs: [4/10] - train_loss: 0.0677 - valid_loss: 0.1203 - train_accuracy: 0.9783 - valid_accuracy: 0.9670\n",
      "Epochs: [5/10] - train_loss: 0.0673 - valid_loss: 0.1315 - train_accuracy: 0.9786 - valid_accuracy: 0.9655\n",
      "Epochs: [6/10] - train_loss: 0.0691 - valid_loss: 0.1128 - train_accuracy: 0.9782 - valid_accuracy: 0.9693\n",
      "Epochs: [7/10] - train_loss: 0.0697 - valid_loss: 0.1076 - train_accuracy: 0.9777 - valid_accuracy: 0.9688\n",
      "Epochs: [8/10] - train_loss: 0.0678 - valid_loss: 0.1234 - train_accuracy: 0.9783 - valid_accuracy: 0.9664\n",
      "Epochs: [9/10] - train_loss: 0.0663 - valid_loss: 0.1133 - train_accuracy: 0.9782 - valid_accuracy: 0.9699\n"
     ]
    },
    {
     "name": "stderr",
     "output_type": "stream",
     "text": [
      "[I 2024-11-06 13:02:45,102] Trial 18 finished with value: 0.12574179253410847 and parameters: {'lr': 0.0008200338680972635, 'epochs': 10}. Best is trial 6 with value: 0.10999692967509578.\n"
     ]
    },
    {
     "name": "stdout",
     "output_type": "stream",
     "text": [
      "Epochs: [10/10] - train_loss: 0.0692 - valid_loss: 0.1257 - train_accuracy: 0.9774 - valid_accuracy: 0.9680\n",
      "Epochs: [1/10] - train_loss: 0.0662 - valid_loss: 0.1194 - train_accuracy: 0.9778 - valid_accuracy: 0.9668\n",
      "Epochs: [2/10] - train_loss: 0.0669 - valid_loss: 0.1279 - train_accuracy: 0.9786 - valid_accuracy: 0.9688\n",
      "Epochs: [3/10] - train_loss: 0.0683 - valid_loss: 0.1198 - train_accuracy: 0.9776 - valid_accuracy: 0.9652\n",
      "Epochs: [4/10] - train_loss: 0.0689 - valid_loss: 0.1212 - train_accuracy: 0.9777 - valid_accuracy: 0.9678\n"
     ]
    },
    {
     "name": "stderr",
     "output_type": "stream",
     "text": [
      "[I 2024-11-06 13:04:02,714] Trial 19 finished with value: 0.12212316753735 and parameters: {'lr': 0.0003724324014636075, 'epochs': 5}. Best is trial 6 with value: 0.10999692967509578.\n"
     ]
    },
    {
     "name": "stdout",
     "output_type": "stream",
     "text": [
      "Epochs: [5/10] - train_loss: 0.0681 - valid_loss: 0.1221 - train_accuracy: 0.9779 - valid_accuracy: 0.9670\n"
     ]
    }
   ],
   "source": [
    "study = optuna.create_study(direction=\"minimize\")\n",
    "study.optimize(objective, n_trials=20)"
   ]
  },
  {
   "cell_type": "code",
   "execution_count": 161,
   "metadata": {},
   "outputs": [
    {
     "data": {
      "text/plain": [
       "{'lr': 0.0006677854637103457, 'epochs': 15}"
      ]
     },
     "execution_count": 161,
     "metadata": {},
     "output_type": "execute_result"
    }
   ],
   "source": [
    "study.best_params"
   ]
  },
  {
   "cell_type": "code",
   "execution_count": 162,
   "metadata": {},
   "outputs": [
    {
     "data": {
      "text/plain": [
       "0.10999692967509578"
      ]
     },
     "execution_count": 162,
     "metadata": {},
     "output_type": "execute_result"
    }
   ],
   "source": [
    "study.best_value"
   ]
  },
  {
   "cell_type": "code",
   "execution_count": 163,
   "metadata": {},
   "outputs": [
    {
     "data": {
      "text/plain": [
       "FrozenTrial(number=6, state=TrialState.COMPLETE, values=[0.10999692967509578], datetime_start=datetime.datetime(2024, 11, 6, 12, 22, 45, 226898), datetime_complete=datetime.datetime(2024, 11, 6, 12, 26, 16, 961547), params={'lr': 0.0006677854637103457, 'epochs': 15}, user_attrs={}, system_attrs={}, intermediate_values={}, distributions={'lr': FloatDistribution(high=0.001, log=False, low=0.0001, step=None), 'epochs': CategoricalDistribution(choices=(5, 10, 15))}, trial_id=6, value=None)"
      ]
     },
     "execution_count": 163,
     "metadata": {},
     "output_type": "execute_result"
    }
   ],
   "source": [
    "study.best_trial"
   ]
  },
  {
   "cell_type": "code",
   "execution_count": null,
   "metadata": {},
   "outputs": [],
   "source": []
  }
 ],
 "metadata": {
  "kernelspec": {
   "display_name": "GPSG",
   "language": "python",
   "name": "python3"
  },
  "language_info": {
   "codemirror_mode": {
    "name": "ipython",
    "version": 3
   },
   "file_extension": ".py",
   "mimetype": "text/x-python",
   "name": "python",
   "nbconvert_exporter": "python",
   "pygments_lexer": "ipython3",
   "version": "3.10.14"
  }
 },
 "nbformat": 4,
 "nbformat_minor": 2
}
