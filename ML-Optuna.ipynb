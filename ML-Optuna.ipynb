{
 "cells": [
  {
   "cell_type": "code",
   "execution_count": 1,
   "metadata": {},
   "outputs": [],
   "source": [
    "import numpy as np\n",
    "import pandas as pd"
   ]
  },
  {
   "cell_type": "code",
   "execution_count": 5,
   "metadata": {},
   "outputs": [
    {
     "name": "stdout",
     "output_type": "stream",
     "text": [
      ".. _iris_dataset:\n",
      "\n",
      "Iris plants dataset\n",
      "--------------------\n",
      "\n",
      "**Data Set Characteristics:**\n",
      "\n",
      ":Number of Instances: 150 (50 in each of three classes)\n",
      ":Number of Attributes: 4 numeric, predictive attributes and the class\n",
      ":Attribute Information:\n",
      "    - sepal length in cm\n",
      "    - sepal width in cm\n",
      "    - petal length in cm\n",
      "    - petal width in cm\n",
      "    - class:\n",
      "            - Iris-Setosa\n",
      "            - Iris-Versicolour\n",
      "            - Iris-Virginica\n",
      "\n",
      ":Summary Statistics:\n",
      "\n",
      "============== ==== ==== ======= ===== ====================\n",
      "                Min  Max   Mean    SD   Class Correlation\n",
      "============== ==== ==== ======= ===== ====================\n",
      "sepal length:   4.3  7.9   5.84   0.83    0.7826\n",
      "sepal width:    2.0  4.4   3.05   0.43   -0.4194\n",
      "petal length:   1.0  6.9   3.76   1.76    0.9490  (high!)\n",
      "petal width:    0.1  2.5   1.20   0.76    0.9565  (high!)\n",
      "============== ==== ==== ======= ===== ====================\n",
      "\n",
      ":Missing Attribute Values: None\n",
      ":Class Distribution: 33.3% for each of 3 classes.\n",
      ":Creator: R.A. Fisher\n",
      ":Donor: Michael Marshall (MARSHALL%PLU@io.arc.nasa.gov)\n",
      ":Date: July, 1988\n",
      "\n",
      "The famous Iris database, first used by Sir R.A. Fisher. The dataset is taken\n",
      "from Fisher's paper. Note that it's the same as in R, but not as in the UCI\n",
      "Machine Learning Repository, which has two wrong data points.\n",
      "\n",
      "This is perhaps the best known database to be found in the\n",
      "pattern recognition literature.  Fisher's paper is a classic in the field and\n",
      "is referenced frequently to this day.  (See Duda & Hart, for example.)  The\n",
      "data set contains 3 classes of 50 instances each, where each class refers to a\n",
      "type of iris plant.  One class is linearly separable from the other 2; the\n",
      "latter are NOT linearly separable from each other.\n",
      "\n",
      ".. dropdown:: References\n",
      "\n",
      "  - Fisher, R.A. \"The use of multiple measurements in taxonomic problems\"\n",
      "    Annual Eugenics, 7, Part II, 179-188 (1936); also in \"Contributions to\n",
      "    Mathematical Statistics\" (John Wiley, NY, 1950).\n",
      "  - Duda, R.O., & Hart, P.E. (1973) Pattern Classification and Scene Analysis.\n",
      "    (Q327.D83) John Wiley & Sons.  ISBN 0-471-22361-1.  See page 218.\n",
      "  - Dasarathy, B.V. (1980) \"Nosing Around the Neighborhood: A New System\n",
      "    Structure and Classification Rule for Recognition in Partially Exposed\n",
      "    Environments\".  IEEE Transactions on Pattern Analysis and Machine\n",
      "    Intelligence, Vol. PAMI-2, No. 1, 67-71.\n",
      "  - Gates, G.W. (1972) \"The Reduced Nearest Neighbor Rule\".  IEEE Transactions\n",
      "    on Information Theory, May 1972, 431-433.\n",
      "  - See also: 1988 MLC Proceedings, 54-64.  Cheeseman et al\"s AUTOCLASS II\n",
      "    conceptual clustering system finds 3 classes in the data.\n",
      "  - Many, many more ...\n",
      "\n"
     ]
    }
   ],
   "source": [
    "from sklearn.datasets import load_iris\n",
    "\n",
    "# Load the Iris dataset\n",
    "iris = load_iris()\n",
    "\n",
    "# Extract features and labels\n",
    "X = iris.data  # Features\n",
    "y = iris.target  # Labels\n",
    "\n",
    "# Access additional information if needed\n",
    "feature_names = iris.feature_names\n",
    "target_names = iris.target_names\n",
    "\n",
    "# Display the dataset description\n",
    "print(iris.DESCR)"
   ]
  },
  {
   "cell_type": "code",
   "execution_count": 7,
   "metadata": {},
   "outputs": [
    {
     "data": {
      "text/html": [
       "<div>\n",
       "<style scoped>\n",
       "    .dataframe tbody tr th:only-of-type {\n",
       "        vertical-align: middle;\n",
       "    }\n",
       "\n",
       "    .dataframe tbody tr th {\n",
       "        vertical-align: top;\n",
       "    }\n",
       "\n",
       "    .dataframe thead th {\n",
       "        text-align: right;\n",
       "    }\n",
       "</style>\n",
       "<table border=\"1\" class=\"dataframe\">\n",
       "  <thead>\n",
       "    <tr style=\"text-align: right;\">\n",
       "      <th></th>\n",
       "      <th>0</th>\n",
       "      <th>1</th>\n",
       "      <th>2</th>\n",
       "      <th>3</th>\n",
       "    </tr>\n",
       "  </thead>\n",
       "  <tbody>\n",
       "    <tr>\n",
       "      <th>0</th>\n",
       "      <td>5.1</td>\n",
       "      <td>3.5</td>\n",
       "      <td>1.4</td>\n",
       "      <td>0.2</td>\n",
       "    </tr>\n",
       "    <tr>\n",
       "      <th>1</th>\n",
       "      <td>4.9</td>\n",
       "      <td>3.0</td>\n",
       "      <td>1.4</td>\n",
       "      <td>0.2</td>\n",
       "    </tr>\n",
       "    <tr>\n",
       "      <th>2</th>\n",
       "      <td>4.7</td>\n",
       "      <td>3.2</td>\n",
       "      <td>1.3</td>\n",
       "      <td>0.2</td>\n",
       "    </tr>\n",
       "    <tr>\n",
       "      <th>3</th>\n",
       "      <td>4.6</td>\n",
       "      <td>3.1</td>\n",
       "      <td>1.5</td>\n",
       "      <td>0.2</td>\n",
       "    </tr>\n",
       "    <tr>\n",
       "      <th>4</th>\n",
       "      <td>5.0</td>\n",
       "      <td>3.6</td>\n",
       "      <td>1.4</td>\n",
       "      <td>0.2</td>\n",
       "    </tr>\n",
       "  </tbody>\n",
       "</table>\n",
       "</div>"
      ],
      "text/plain": [
       "     0    1    2    3\n",
       "0  5.1  3.5  1.4  0.2\n",
       "1  4.9  3.0  1.4  0.2\n",
       "2  4.7  3.2  1.3  0.2\n",
       "3  4.6  3.1  1.5  0.2\n",
       "4  5.0  3.6  1.4  0.2"
      ]
     },
     "execution_count": 7,
     "metadata": {},
     "output_type": "execute_result"
    }
   ],
   "source": [
    "pd.DataFrame(X).head()"
   ]
  },
  {
   "cell_type": "code",
   "execution_count": 8,
   "metadata": {},
   "outputs": [
    {
     "data": {
      "text/html": [
       "<div>\n",
       "<style scoped>\n",
       "    .dataframe tbody tr th:only-of-type {\n",
       "        vertical-align: middle;\n",
       "    }\n",
       "\n",
       "    .dataframe tbody tr th {\n",
       "        vertical-align: top;\n",
       "    }\n",
       "\n",
       "    .dataframe thead th {\n",
       "        text-align: right;\n",
       "    }\n",
       "</style>\n",
       "<table border=\"1\" class=\"dataframe\">\n",
       "  <thead>\n",
       "    <tr style=\"text-align: right;\">\n",
       "      <th></th>\n",
       "      <th>0</th>\n",
       "    </tr>\n",
       "  </thead>\n",
       "  <tbody>\n",
       "    <tr>\n",
       "      <th>0</th>\n",
       "      <td>0</td>\n",
       "    </tr>\n",
       "    <tr>\n",
       "      <th>1</th>\n",
       "      <td>0</td>\n",
       "    </tr>\n",
       "    <tr>\n",
       "      <th>2</th>\n",
       "      <td>0</td>\n",
       "    </tr>\n",
       "    <tr>\n",
       "      <th>3</th>\n",
       "      <td>0</td>\n",
       "    </tr>\n",
       "    <tr>\n",
       "      <th>4</th>\n",
       "      <td>0</td>\n",
       "    </tr>\n",
       "  </tbody>\n",
       "</table>\n",
       "</div>"
      ],
      "text/plain": [
       "   0\n",
       "0  0\n",
       "1  0\n",
       "2  0\n",
       "3  0\n",
       "4  0"
      ]
     },
     "execution_count": 8,
     "metadata": {},
     "output_type": "execute_result"
    }
   ],
   "source": [
    "pd.DataFrame(y).head()"
   ]
  },
  {
   "cell_type": "code",
   "execution_count": 10,
   "metadata": {},
   "outputs": [
    {
     "name": "stdout",
     "output_type": "stream",
     "text": [
      "(120, 4) (120,) (30, 4) (30, 4)\n"
     ]
    }
   ],
   "source": [
    "# Train test split\n",
    "from sklearn.model_selection import train_test_split\n",
    "X_train, X_test, y_train, y_test = train_test_split(\n",
    "    X, y, test_size=0.20, random_state= 42\n",
    ")\n",
    "\n",
    "print(X_train.shape, y_train.shape, X_test.shape, X_test.shape)"
   ]
  },
  {
   "cell_type": "code",
   "execution_count": 11,
   "metadata": {},
   "outputs": [
    {
     "data": {
      "text/plain": [
       "1.0"
      ]
     },
     "execution_count": 11,
     "metadata": {},
     "output_type": "execute_result"
    }
   ],
   "source": [
    "# I am using Random Forest to solve the task\n",
    "from sklearn.ensemble import RandomForestClassifier\n",
    "\n",
    "classifier = RandomForestClassifier()\n",
    "classifier.fit(X_train, y_train)\n",
    "\n",
    "predicted = classifier.predict(X_test)\n",
    "\n",
    "from sklearn.metrics import accuracy_score\n",
    "\n",
    "accuracy_score(predicted, y_test)"
   ]
  },
  {
   "cell_type": "markdown",
   "metadata": {},
   "source": [
    "## Do the hyper parameter tuning"
   ]
  },
  {
   "cell_type": "code",
   "execution_count": null,
   "metadata": {},
   "outputs": [],
   "source": [
    "'''\n",
    "class sklearn.ensemble.RandomForestClassifier(\n",
    "    n_estimators=100, *,\n",
    "    criterion='gini',\n",
    "    max_depth=None,\n",
    "    min_samples_split=2,\n",
    "    min_samples_leaf=1,\n",
    "    min_weight_fraction_leaf=0.0,\n",
    "    max_features='sqrt',\n",
    "    max_leaf_nodes=None,\n",
    "    min_impurity_decrease=0.0,\n",
    "    bootstrap=True, oob_score=False,\n",
    "    n_jobs=None, random_state=None,\n",
    "    verbose=0, warm_start=False, class_weight=None,\n",
    "    ccp_alpha=0.0, max_samples=None, monotonic_cst=None)\n",
    "\n",
    "'''"
   ]
  },
  {
   "cell_type": "markdown",
   "metadata": {},
   "source": [
    "## Install the Optuna library"
   ]
  },
  {
   "cell_type": "code",
   "execution_count": 12,
   "metadata": {},
   "outputs": [
    {
     "name": "stdout",
     "output_type": "stream",
     "text": [
      "Requirement already satisfied: optuna in /opt/anaconda3/envs/GPSG/lib/python3.10/site-packages (4.0.0)\n",
      "Requirement already satisfied: alembic>=1.5.0 in /opt/anaconda3/envs/GPSG/lib/python3.10/site-packages (from optuna) (1.13.3)\n",
      "Requirement already satisfied: colorlog in /opt/anaconda3/envs/GPSG/lib/python3.10/site-packages (from optuna) (6.8.2)\n",
      "Requirement already satisfied: numpy in /opt/anaconda3/envs/GPSG/lib/python3.10/site-packages (from optuna) (1.26.4)\n",
      "Requirement already satisfied: packaging>=20.0 in /opt/anaconda3/envs/GPSG/lib/python3.10/site-packages (from optuna) (24.1)\n",
      "Requirement already satisfied: sqlalchemy>=1.3.0 in /opt/anaconda3/envs/GPSG/lib/python3.10/site-packages (from optuna) (2.0.36)\n",
      "Requirement already satisfied: tqdm in /opt/anaconda3/envs/GPSG/lib/python3.10/site-packages (from optuna) (4.66.5)\n",
      "Requirement already satisfied: PyYAML in /opt/anaconda3/envs/GPSG/lib/python3.10/site-packages (from optuna) (6.0.2)\n",
      "Requirement already satisfied: Mako in /opt/anaconda3/envs/GPSG/lib/python3.10/site-packages (from alembic>=1.5.0->optuna) (1.3.6)\n",
      "Requirement already satisfied: typing-extensions>=4 in /opt/anaconda3/envs/GPSG/lib/python3.10/site-packages (from alembic>=1.5.0->optuna) (4.11.0)\n",
      "Requirement already satisfied: greenlet!=0.4.17 in /opt/anaconda3/envs/GPSG/lib/python3.10/site-packages (from sqlalchemy>=1.3.0->optuna) (3.1.1)\n",
      "Requirement already satisfied: MarkupSafe>=0.9.2 in /opt/anaconda3/envs/GPSG/lib/python3.10/site-packages (from Mako->alembic>=1.5.0->optuna) (2.1.5)\n"
     ]
    }
   ],
   "source": [
    "!pip install optuna"
   ]
  },
  {
   "cell_type": "code",
   "execution_count": 14,
   "metadata": {},
   "outputs": [],
   "source": [
    "import optuna"
   ]
  },
  {
   "cell_type": "code",
   "execution_count": 20,
   "metadata": {},
   "outputs": [],
   "source": [
    "# Objective function for Optuna\n",
    "def objective(trial):\n",
    "    # Suggest values for hyperparameters\n",
    "    n_estimators = trial.suggest_categorical(\"n_estimators\", [100, 200])  # corrected to use categorical\n",
    "    criterion = trial.suggest_categorical(\"criterion\", [\"gini\", \"entropy\", \"log_loss\"])\n",
    "    max_features = trial.suggest_categorical(\"max_features\", [\"sqrt\", \"log2\", None])\n",
    "    \n",
    "    # Initialize the model with suggested hyperparameters\n",
    "    classifier = RandomForestClassifier(\n",
    "        n_estimators=n_estimators,\n",
    "        criterion=criterion,\n",
    "        max_features=max_features\n",
    "    )\n",
    "    \n",
    "    # Fit the model on training data\n",
    "    classifier.fit(X_train, y_train)\n",
    "    \n",
    "    # Predict on the test data\n",
    "    predicted = classifier.predict(X_test)\n",
    "    \n",
    "    # Calculate and return the accuracy on the test set\n",
    "    return accuracy_score(y_test, predicted)"
   ]
  },
  {
   "cell_type": "code",
   "execution_count": 34,
   "metadata": {},
   "outputs": [
    {
     "name": "stderr",
     "output_type": "stream",
     "text": [
      "[I 2024-11-06 09:59:11,472] A new study created in memory with name: no-name-061f724b-27e0-46f1-b718-770279c1ef85\n"
     ]
    },
    {
     "name": "stderr",
     "output_type": "stream",
     "text": [
      "[I 2024-11-06 09:59:11,789] Trial 0 finished with value: 1.0 and parameters: {'n_estimators': 200, 'criterion': 'entropy', 'max_features': None}. Best is trial 0 with value: 1.0.\n",
      "[I 2024-11-06 09:59:11,924] Trial 1 finished with value: 1.0 and parameters: {'n_estimators': 100, 'criterion': 'gini', 'max_features': 'log2'}. Best is trial 0 with value: 1.0.\n",
      "[I 2024-11-06 09:59:12,183] Trial 2 finished with value: 1.0 and parameters: {'n_estimators': 200, 'criterion': 'gini', 'max_features': 'log2'}. Best is trial 0 with value: 1.0.\n",
      "[I 2024-11-06 09:59:12,439] Trial 3 finished with value: 1.0 and parameters: {'n_estimators': 200, 'criterion': 'log_loss', 'max_features': 'log2'}. Best is trial 0 with value: 1.0.\n",
      "[I 2024-11-06 09:59:12,683] Trial 4 finished with value: 1.0 and parameters: {'n_estimators': 200, 'criterion': 'gini', 'max_features': 'log2'}. Best is trial 0 with value: 1.0.\n",
      "[I 2024-11-06 09:59:12,807] Trial 5 finished with value: 1.0 and parameters: {'n_estimators': 100, 'criterion': 'entropy', 'max_features': 'sqrt'}. Best is trial 0 with value: 1.0.\n",
      "[I 2024-11-06 09:59:13,072] Trial 6 finished with value: 1.0 and parameters: {'n_estimators': 200, 'criterion': 'gini', 'max_features': None}. Best is trial 0 with value: 1.0.\n",
      "[I 2024-11-06 09:59:13,195] Trial 7 finished with value: 1.0 and parameters: {'n_estimators': 100, 'criterion': 'gini', 'max_features': 'sqrt'}. Best is trial 0 with value: 1.0.\n",
      "[I 2024-11-06 09:59:13,436] Trial 8 finished with value: 1.0 and parameters: {'n_estimators': 200, 'criterion': 'gini', 'max_features': None}. Best is trial 0 with value: 1.0.\n",
      "[I 2024-11-06 09:59:13,562] Trial 9 finished with value: 1.0 and parameters: {'n_estimators': 100, 'criterion': 'entropy', 'max_features': None}. Best is trial 0 with value: 1.0.\n",
      "[I 2024-11-06 09:59:13,839] Trial 10 finished with value: 1.0 and parameters: {'n_estimators': 200, 'criterion': 'entropy', 'max_features': None}. Best is trial 0 with value: 1.0.\n",
      "[I 2024-11-06 09:59:13,973] Trial 11 finished with value: 1.0 and parameters: {'n_estimators': 100, 'criterion': 'log_loss', 'max_features': 'log2'}. Best is trial 0 with value: 1.0.\n",
      "[I 2024-11-06 09:59:14,115] Trial 12 finished with value: 1.0 and parameters: {'n_estimators': 100, 'criterion': 'entropy', 'max_features': None}. Best is trial 0 with value: 1.0.\n",
      "[I 2024-11-06 09:59:14,247] Trial 13 finished with value: 1.0 and parameters: {'n_estimators': 100, 'criterion': 'entropy', 'max_features': 'log2'}. Best is trial 0 with value: 1.0.\n",
      "[I 2024-11-06 09:59:14,511] Trial 14 finished with value: 1.0 and parameters: {'n_estimators': 200, 'criterion': 'log_loss', 'max_features': 'sqrt'}. Best is trial 0 with value: 1.0.\n",
      "[I 2024-11-06 09:59:14,745] Trial 15 finished with value: 1.0 and parameters: {'n_estimators': 100, 'criterion': 'gini', 'max_features': None}. Best is trial 0 with value: 1.0.\n",
      "[I 2024-11-06 09:59:14,888] Trial 16 finished with value: 1.0 and parameters: {'n_estimators': 100, 'criterion': 'entropy', 'max_features': 'log2'}. Best is trial 0 with value: 1.0.\n",
      "[I 2024-11-06 09:59:15,140] Trial 17 finished with value: 1.0 and parameters: {'n_estimators': 200, 'criterion': 'gini', 'max_features': 'log2'}. Best is trial 0 with value: 1.0.\n",
      "[I 2024-11-06 09:59:15,268] Trial 18 finished with value: 1.0 and parameters: {'n_estimators': 100, 'criterion': 'entropy', 'max_features': None}. Best is trial 0 with value: 1.0.\n",
      "[I 2024-11-06 09:59:15,535] Trial 19 finished with value: 1.0 and parameters: {'n_estimators': 200, 'criterion': 'log_loss', 'max_features': 'sqrt'}. Best is trial 0 with value: 1.0.\n"
     ]
    }
   ],
   "source": [
    "# Create the study\n",
    "study = optuna.create_study(direction=\"maximize\", sampler=optuna.samplers.TPESampler())\n",
    "study.optimize(func=objective, n_trials=20)"
   ]
  },
  {
   "cell_type": "code",
   "execution_count": 35,
   "metadata": {},
   "outputs": [
    {
     "data": {
      "text/plain": [
       "[<StudyDirection.MAXIMIZE: 2>]"
      ]
     },
     "execution_count": 35,
     "metadata": {},
     "output_type": "execute_result"
    }
   ],
   "source": [
    "study.directions"
   ]
  },
  {
   "cell_type": "code",
   "execution_count": 36,
   "metadata": {},
   "outputs": [
    {
     "data": {
      "text/plain": [
       "<optuna.samplers._tpe.sampler.TPESampler at 0x7f9c8d46d600>"
      ]
     },
     "execution_count": 36,
     "metadata": {},
     "output_type": "execute_result"
    }
   ],
   "source": [
    "study.sampler"
   ]
  },
  {
   "cell_type": "code",
   "execution_count": 37,
   "metadata": {},
   "outputs": [],
   "source": [
    "study.metric_names"
   ]
  },
  {
   "cell_type": "code",
   "execution_count": 38,
   "metadata": {},
   "outputs": [
    {
     "data": {
      "text/plain": [
       "{'n_estimators': 200, 'criterion': 'entropy', 'max_features': None}"
      ]
     },
     "execution_count": 38,
     "metadata": {},
     "output_type": "execute_result"
    }
   ],
   "source": [
    "study.best_params"
   ]
  },
  {
   "cell_type": "code",
   "execution_count": 39,
   "metadata": {},
   "outputs": [
    {
     "data": {
      "text/plain": [
       "1.0"
      ]
     },
     "execution_count": 39,
     "metadata": {},
     "output_type": "execute_result"
    }
   ],
   "source": [
    "study.best_value"
   ]
  },
  {
   "cell_type": "code",
   "execution_count": 31,
   "metadata": {},
   "outputs": [
    {
     "data": {
      "text/plain": [
       "<bound method Study.get_trials of <optuna.study.study.Study object at 0x7f9c8c662ef0>>"
      ]
     },
     "execution_count": 31,
     "metadata": {},
     "output_type": "execute_result"
    }
   ],
   "source": []
  },
  {
   "cell_type": "code",
   "execution_count": 44,
   "metadata": {},
   "outputs": [
    {
     "data": {
      "text/plain": [
       "{'n_estimators': 200, 'criterion': 'entropy', 'max_features': None}"
      ]
     },
     "execution_count": 44,
     "metadata": {},
     "output_type": "execute_result"
    }
   ],
   "source": [
    "study.best_trial.params"
   ]
  },
  {
   "cell_type": "code",
   "execution_count": 45,
   "metadata": {},
   "outputs": [
    {
     "data": {
      "text/plain": [
       "1.0"
      ]
     },
     "execution_count": 45,
     "metadata": {},
     "output_type": "execute_result"
    }
   ],
   "source": [
    "# Use this parameter\n",
    "classifier = RandomForestClassifier(\n",
    "    **study.best_params\n",
    ")\n",
    "\n",
    "classifier.fit(X_train, y_train)\n",
    "\n",
    "predicted = classifier.predict(X_test)\n",
    "\n",
    "accuracy_score(predicted, y_test)"
   ]
  },
  {
   "cell_type": "markdown",
   "metadata": {},
   "source": [
    "### Using the range"
   ]
  },
  {
   "cell_type": "code",
   "execution_count": 46,
   "metadata": {},
   "outputs": [],
   "source": [
    "def objective(trail):\n",
    "    n_estimators = trail.suggest_int(\"n_estimators\", 100, 500)\n",
    "    criterion = trail.suggest_categorical(\"criterion\", [\"gini\", \"entropy\", \"log_loss\"])\n",
    "    max_features = trail.suggest_categorical(\"max_features\", [\"sqrt\", \"log2\", None])\n",
    "    \n",
    "    classifier = RandomForestClassifier(\n",
    "        n_estimators=n_estimators,\n",
    "        criterion=criterion,\n",
    "        max_features=max_features\n",
    "    )\n",
    "    \n",
    "    classifier.fit(X_train, y_train)\n",
    "    \n",
    "    predicted = classifier.predict(X_test)\n",
    "    \n",
    "    return accuracy_score(y_test, predicted)"
   ]
  },
  {
   "cell_type": "code",
   "execution_count": 47,
   "metadata": {},
   "outputs": [
    {
     "name": "stderr",
     "output_type": "stream",
     "text": [
      "[I 2024-11-06 10:26:06,247] A new study created in memory with name: no-name-f8bcf22e-1984-47e6-81d5-a8ae5369af93\n",
      "[I 2024-11-06 10:26:06,998] Trial 0 finished with value: 1.0 and parameters: {'n_estimators': 426, 'criterion': 'log_loss', 'max_features': None}. Best is trial 0 with value: 1.0.\n",
      "[I 2024-11-06 10:26:07,165] Trial 1 finished with value: 1.0 and parameters: {'n_estimators': 127, 'criterion': 'gini', 'max_features': None}. Best is trial 0 with value: 1.0.\n",
      "[I 2024-11-06 10:26:07,715] Trial 2 finished with value: 1.0 and parameters: {'n_estimators': 434, 'criterion': 'gini', 'max_features': None}. Best is trial 0 with value: 1.0.\n",
      "[I 2024-11-06 10:26:08,258] Trial 3 finished with value: 1.0 and parameters: {'n_estimators': 435, 'criterion': 'entropy', 'max_features': 'log2'}. Best is trial 0 with value: 1.0.\n",
      "[I 2024-11-06 10:26:08,577] Trial 4 finished with value: 1.0 and parameters: {'n_estimators': 259, 'criterion': 'entropy', 'max_features': None}. Best is trial 0 with value: 1.0.\n",
      "[I 2024-11-06 10:26:09,131] Trial 5 finished with value: 1.0 and parameters: {'n_estimators': 459, 'criterion': 'entropy', 'max_features': 'sqrt'}. Best is trial 0 with value: 1.0.\n",
      "[I 2024-11-06 10:26:09,630] Trial 6 finished with value: 1.0 and parameters: {'n_estimators': 402, 'criterion': 'log_loss', 'max_features': None}. Best is trial 0 with value: 1.0.\n",
      "[I 2024-11-06 10:26:10,143] Trial 7 finished with value: 1.0 and parameters: {'n_estimators': 421, 'criterion': 'entropy', 'max_features': None}. Best is trial 0 with value: 1.0.\n",
      "[I 2024-11-06 10:26:10,475] Trial 8 finished with value: 1.0 and parameters: {'n_estimators': 269, 'criterion': 'entropy', 'max_features': 'sqrt'}. Best is trial 0 with value: 1.0.\n",
      "[I 2024-11-06 10:26:10,618] Trial 9 finished with value: 1.0 and parameters: {'n_estimators': 110, 'criterion': 'gini', 'max_features': 'sqrt'}. Best is trial 0 with value: 1.0.\n",
      "[I 2024-11-06 10:26:11,178] Trial 10 finished with value: 1.0 and parameters: {'n_estimators': 340, 'criterion': 'log_loss', 'max_features': 'log2'}. Best is trial 0 with value: 1.0.\n",
      "[I 2024-11-06 10:26:11,364] Trial 11 finished with value: 1.0 and parameters: {'n_estimators': 138, 'criterion': 'gini', 'max_features': None}. Best is trial 0 with value: 1.0.\n",
      "[I 2024-11-06 10:26:11,633] Trial 12 finished with value: 1.0 and parameters: {'n_estimators': 213, 'criterion': 'log_loss', 'max_features': None}. Best is trial 0 with value: 1.0.\n",
      "[I 2024-11-06 10:26:12,061] Trial 13 finished with value: 1.0 and parameters: {'n_estimators': 347, 'criterion': 'log_loss', 'max_features': None}. Best is trial 0 with value: 1.0.\n",
      "[I 2024-11-06 10:26:12,662] Trial 14 finished with value: 1.0 and parameters: {'n_estimators': 500, 'criterion': 'gini', 'max_features': None}. Best is trial 0 with value: 1.0.\n",
      "[I 2024-11-06 10:26:12,878] Trial 15 finished with value: 1.0 and parameters: {'n_estimators': 170, 'criterion': 'log_loss', 'max_features': 'log2'}. Best is trial 0 with value: 1.0.\n",
      "[I 2024-11-06 10:26:13,316] Trial 16 finished with value: 1.0 and parameters: {'n_estimators': 352, 'criterion': 'gini', 'max_features': None}. Best is trial 0 with value: 1.0.\n",
      "[I 2024-11-06 10:26:13,607] Trial 17 finished with value: 1.0 and parameters: {'n_estimators': 216, 'criterion': 'gini', 'max_features': None}. Best is trial 0 with value: 1.0.\n",
      "[I 2024-11-06 10:26:13,989] Trial 18 finished with value: 1.0 and parameters: {'n_estimators': 297, 'criterion': 'log_loss', 'max_features': 'sqrt'}. Best is trial 0 with value: 1.0.\n",
      "[I 2024-11-06 10:26:14,433] Trial 19 finished with value: 1.0 and parameters: {'n_estimators': 371, 'criterion': 'gini', 'max_features': 'log2'}. Best is trial 0 with value: 1.0.\n"
     ]
    }
   ],
   "source": [
    "study = optuna.create_study(direction=\"maximize\", sampler=optuna.samplers.TPESampler())\n",
    "study.optimize(func=objective, n_trials=20)"
   ]
  },
  {
   "cell_type": "code",
   "execution_count": 49,
   "metadata": {},
   "outputs": [
    {
     "data": {
      "text/plain": [
       "{'n_estimators': 426, 'criterion': 'log_loss', 'max_features': None}"
      ]
     },
     "execution_count": 49,
     "metadata": {},
     "output_type": "execute_result"
    }
   ],
   "source": [
    "study.best_params"
   ]
  },
  {
   "cell_type": "code",
   "execution_count": 51,
   "metadata": {},
   "outputs": [
    {
     "data": {
      "text/plain": [
       "1.0"
      ]
     },
     "execution_count": 51,
     "metadata": {},
     "output_type": "execute_result"
    }
   ],
   "source": [
    "study.best_value"
   ]
  },
  {
   "cell_type": "code",
   "execution_count": 52,
   "metadata": {},
   "outputs": [
    {
     "data": {
      "text/plain": [
       "1.0"
      ]
     },
     "execution_count": 52,
     "metadata": {},
     "output_type": "execute_result"
    }
   ],
   "source": [
    "classifier = RandomForestClassifier(\n",
    "    **study.best_params\n",
    ")\n",
    "\n",
    "classifier.fit(X_train, y_train)\n",
    "\n",
    "predicted = classifier.predict(X_test)\n",
    "\n",
    "accuracy_score(predicted, y_test)"
   ]
  },
  {
   "cell_type": "markdown",
   "metadata": {},
   "source": [
    "### Is it possible to use multiple Algorithms"
   ]
  },
  {
   "cell_type": "code",
   "execution_count": 54,
   "metadata": {},
   "outputs": [],
   "source": [
    "from sklearn.tree import DecisionTreeClassifier\n",
    "\n",
    "\n",
    "def objective(trails):\n",
    "    classifiers = trails.suggest_categorical(\"classifier\", [\"RF\", \"DT\"])\n",
    "    n_estimators = trails.suggest_categorical(\"n_estimators\", [100, 200, 300])\n",
    "    criterion = trails.suggest_categorical(\"criterion\", [\"gini\", \"entropy\", \"log_loss\"])\n",
    "    splitter = trails.suggest_categorical(\"splitter\", [\"best\", \"random\"])\n",
    "    max_depth = trails.suggest_int(\"max_depth\", 3, 10)\n",
    "    \n",
    "    if classifiers == \"RF\":\n",
    "        model = RandomForestClassifier(\n",
    "            n_estimators=n_estimators,\n",
    "            max_depth=max_depth,\n",
    "            criterion = criterion\n",
    "        )\n",
    "        \n",
    "    elif classifiers == \"DT\":\n",
    "        model = DecisionTreeClassifier(\n",
    "            max_depth=max_depth,\n",
    "            splitter=splitter\n",
    "        )\n",
    "        \n",
    "    model.fit(X_train, y_train)\n",
    "    \n",
    "    predicted = model.predict(X_test)\n",
    "    \n",
    "    return accuracy_score(y_test, predicted)"
   ]
  },
  {
   "cell_type": "code",
   "execution_count": 55,
   "metadata": {},
   "outputs": [
    {
     "name": "stderr",
     "output_type": "stream",
     "text": [
      "[I 2024-11-06 10:35:33,762] A new study created in memory with name: no-name-026718a8-36ec-4081-a383-8151ee5830b2\n",
      "[I 2024-11-06 10:35:34,346] Trial 0 finished with value: 1.0 and parameters: {'classifier': 'RF', 'n_estimators': 300, 'criterion': 'entropy', 'splitter': 'best', 'max_depth': 10}. Best is trial 0 with value: 1.0.\n",
      "[I 2024-11-06 10:35:34,476] Trial 1 finished with value: 1.0 and parameters: {'classifier': 'RF', 'n_estimators': 100, 'criterion': 'entropy', 'splitter': 'best', 'max_depth': 10}. Best is trial 0 with value: 1.0.\n",
      "[I 2024-11-06 10:35:34,484] Trial 2 finished with value: 0.9666666666666667 and parameters: {'classifier': 'DT', 'n_estimators': 200, 'criterion': 'log_loss', 'splitter': 'random', 'max_depth': 7}. Best is trial 0 with value: 1.0.\n",
      "[I 2024-11-06 10:35:34,487] Trial 3 finished with value: 1.0 and parameters: {'classifier': 'DT', 'n_estimators': 200, 'criterion': 'log_loss', 'splitter': 'best', 'max_depth': 9}. Best is trial 0 with value: 1.0.\n",
      "[I 2024-11-06 10:35:34,756] Trial 4 finished with value: 1.0 and parameters: {'classifier': 'RF', 'n_estimators': 200, 'criterion': 'entropy', 'splitter': 'best', 'max_depth': 9}. Best is trial 0 with value: 1.0.\n",
      "[I 2024-11-06 10:35:34,759] Trial 5 finished with value: 1.0 and parameters: {'classifier': 'DT', 'n_estimators': 200, 'criterion': 'gini', 'splitter': 'best', 'max_depth': 10}. Best is trial 0 with value: 1.0.\n",
      "[I 2024-11-06 10:35:34,762] Trial 6 finished with value: 1.0 and parameters: {'classifier': 'DT', 'n_estimators': 200, 'criterion': 'gini', 'splitter': 'random', 'max_depth': 6}. Best is trial 0 with value: 1.0.\n",
      "[I 2024-11-06 10:35:35,150] Trial 7 finished with value: 1.0 and parameters: {'classifier': 'RF', 'n_estimators': 300, 'criterion': 'log_loss', 'splitter': 'best', 'max_depth': 6}. Best is trial 0 with value: 1.0.\n",
      "[I 2024-11-06 10:35:35,153] Trial 8 finished with value: 0.9 and parameters: {'classifier': 'DT', 'n_estimators': 200, 'criterion': 'log_loss', 'splitter': 'random', 'max_depth': 8}. Best is trial 0 with value: 1.0.\n",
      "[I 2024-11-06 10:35:35,157] Trial 9 finished with value: 1.0 and parameters: {'classifier': 'DT', 'n_estimators': 200, 'criterion': 'log_loss', 'splitter': 'best', 'max_depth': 7}. Best is trial 0 with value: 1.0.\n",
      "[I 2024-11-06 10:35:35,536] Trial 10 finished with value: 1.0 and parameters: {'classifier': 'RF', 'n_estimators': 300, 'criterion': 'entropy', 'splitter': 'random', 'max_depth': 3}. Best is trial 0 with value: 1.0.\n",
      "[I 2024-11-06 10:35:35,681] Trial 11 finished with value: 1.0 and parameters: {'classifier': 'RF', 'n_estimators': 100, 'criterion': 'entropy', 'splitter': 'best', 'max_depth': 10}. Best is trial 0 with value: 1.0.\n",
      "[I 2024-11-06 10:35:35,824] Trial 12 finished with value: 1.0 and parameters: {'classifier': 'RF', 'n_estimators': 100, 'criterion': 'entropy', 'splitter': 'best', 'max_depth': 3}. Best is trial 0 with value: 1.0.\n",
      "[I 2024-11-06 10:35:35,971] Trial 13 finished with value: 1.0 and parameters: {'classifier': 'RF', 'n_estimators': 100, 'criterion': 'entropy', 'splitter': 'best', 'max_depth': 10}. Best is trial 0 with value: 1.0.\n",
      "[I 2024-11-06 10:35:36,366] Trial 14 finished with value: 1.0 and parameters: {'classifier': 'RF', 'n_estimators': 300, 'criterion': 'entropy', 'splitter': 'best', 'max_depth': 8}. Best is trial 0 with value: 1.0.\n",
      "[I 2024-11-06 10:35:36,498] Trial 15 finished with value: 1.0 and parameters: {'classifier': 'RF', 'n_estimators': 100, 'criterion': 'entropy', 'splitter': 'best', 'max_depth': 5}. Best is trial 0 with value: 1.0.\n",
      "[I 2024-11-06 10:35:36,904] Trial 16 finished with value: 1.0 and parameters: {'classifier': 'RF', 'n_estimators': 300, 'criterion': 'entropy', 'splitter': 'best', 'max_depth': 9}. Best is trial 0 with value: 1.0.\n",
      "[I 2024-11-06 10:35:37,501] Trial 17 finished with value: 1.0 and parameters: {'classifier': 'RF', 'n_estimators': 300, 'criterion': 'gini', 'splitter': 'best', 'max_depth': 8}. Best is trial 0 with value: 1.0.\n",
      "[I 2024-11-06 10:35:37,637] Trial 18 finished with value: 1.0 and parameters: {'classifier': 'RF', 'n_estimators': 100, 'criterion': 'entropy', 'splitter': 'random', 'max_depth': 5}. Best is trial 0 with value: 1.0.\n",
      "[I 2024-11-06 10:35:37,803] Trial 19 finished with value: 1.0 and parameters: {'classifier': 'RF', 'n_estimators': 100, 'criterion': 'entropy', 'splitter': 'best', 'max_depth': 10}. Best is trial 0 with value: 1.0.\n"
     ]
    }
   ],
   "source": [
    "study = optuna.create_study(direction=\"maximize\", sampler=optuna.samplers.TPESampler())\n",
    "study.optimize(func=objective, n_trials=20)"
   ]
  },
  {
   "cell_type": "code",
   "execution_count": 56,
   "metadata": {},
   "outputs": [
    {
     "data": {
      "text/plain": [
       "{'classifier': 'RF',\n",
       " 'n_estimators': 300,\n",
       " 'criterion': 'entropy',\n",
       " 'splitter': 'best',\n",
       " 'max_depth': 10}"
      ]
     },
     "execution_count": 56,
     "metadata": {},
     "output_type": "execute_result"
    }
   ],
   "source": [
    "study.best_params"
   ]
  },
  {
   "cell_type": "code",
   "execution_count": null,
   "metadata": {},
   "outputs": [],
   "source": []
  }
 ],
 "metadata": {
  "kernelspec": {
   "display_name": "GPSG",
   "language": "python",
   "name": "python3"
  },
  "language_info": {
   "codemirror_mode": {
    "name": "ipython",
    "version": 3
   },
   "file_extension": ".py",
   "mimetype": "text/x-python",
   "name": "python",
   "nbconvert_exporter": "python",
   "pygments_lexer": "ipython3",
   "version": "3.10.14"
  }
 },
 "nbformat": 4,
 "nbformat_minor": 2
}
